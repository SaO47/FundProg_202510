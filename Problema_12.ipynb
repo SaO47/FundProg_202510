{
  "nbformat": 4,
  "nbformat_minor": 0,
  "metadata": {
    "colab": {
      "provenance": [],
      "authorship_tag": "ABX9TyOGsDp+c2HD0OvwQB//C3Oo",
      "include_colab_link": true
    },
    "kernelspec": {
      "name": "python3",
      "display_name": "Python 3"
    },
    "language_info": {
      "name": "python"
    }
  },
  "cells": [
    {
      "cell_type": "markdown",
      "metadata": {
        "id": "view-in-github",
        "colab_type": "text"
      },
      "source": [
        "<a href=\"https://colab.research.google.com/github/SaO47/FundProg_202510/blob/main/Problema_12.ipynb\" target=\"_parent\"><img src=\"https://colab.research.google.com/assets/colab-badge.svg\" alt=\"Open In Colab\"/></a>"
      ]
    },
    {
      "cell_type": "code",
      "execution_count": null,
      "metadata": {
        "id": "7hT443y3SW8E",
        "colab": {
          "base_uri": "https://localhost:8080/"
        },
        "outputId": "cf0e641b-f1a8-471b-b3ed-49e3efe50356"
      },
      "outputs": [
        {
          "output_type": "stream",
          "name": "stdout",
          "text": [
            "Ingresar radio del circulo: 2\n",
            "El area del circulo es 12.56\n"
          ]
        }
      ],
      "source": [
        "radio = float(input(\"Ingresar radio del circulo: \"))\n",
        "pi = 3.14\n",
        "Area = pi * radio ** 2\n",
        "print(\"El area del circulo es\", Area)\n"
      ]
    },
    {
      "cell_type": "markdown",
      "source": [
        "Pseudocodigo\n",
        "\n",
        "Start\n",
        "\n",
        "  Declare radio, pi, Area as Float\n",
        "\n",
        "  Display \"Ingresar radio del circulo: \"\n",
        "\n",
        "  Set radio = Input()\n",
        "\n",
        "  Set pi = 3.14\n",
        "\n",
        "  Set Area = pi * radio ** 2\n",
        "\n",
        "  Display \"El area del circulo es\", Area\n",
        "\n",
        "End\n"
      ],
      "metadata": {
        "id": "98zqflFCu2c6"
      }
    }
  ]
}