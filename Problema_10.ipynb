{
  "nbformat": 4,
  "nbformat_minor": 0,
  "metadata": {
    "colab": {
      "provenance": [],
      "authorship_tag": "ABX9TyM8I4RgyXS2bGftHWC4Ihkp",
      "include_colab_link": true
    },
    "kernelspec": {
      "name": "python3",
      "display_name": "Python 3"
    },
    "language_info": {
      "name": "python"
    }
  },
  "cells": [
    {
      "cell_type": "markdown",
      "metadata": {
        "id": "view-in-github",
        "colab_type": "text"
      },
      "source": [
        "<a href=\"https://colab.research.google.com/github/SaO47/FundProg_202510/blob/main/Problema_10.ipynb\" target=\"_parent\"><img src=\"https://colab.research.google.com/assets/colab-badge.svg\" alt=\"Open In Colab\"/></a>"
      ]
    },
    {
      "cell_type": "code",
      "execution_count": null,
      "metadata": {
        "id": "jmnuKMF5SY0h",
        "colab": {
          "base_uri": "https://localhost:8080/"
        },
        "outputId": "73903e42-18a7-486b-bcba-75b90cc20dfa"
      },
      "outputs": [
        {
          "output_type": "stream",
          "name": "stdout",
          "text": [
            "Monto pagado por acciones: 32870.0\n",
            "Comisión de compra: 657.4\n",
            "Monto obtenido por venta: 33920.0\n",
            "Comisión de venta: 678.4\n",
            "Ganancia/Pérdida neta: -285.8000000000029\n"
          ]
        }
      ],
      "source": [
        "acciones = 1000\n",
        "compra = 32.87\n",
        "venta = 33.92\n",
        "comision = 0.02\n",
        "\n",
        "montocom = acciones * compra\n",
        "comicom = montocom * comision\n",
        "montoven = acciones * venta\n",
        "comiven = montoven * comision\n",
        "\n",
        "ganancia = (montoven - comiven) - (montocom + comicom)\n",
        "\n",
        "print(\"Monto pagado por acciones:\", montocom)\n",
        "print(\"Comisión de compra:\", comicom)\n",
        "print(\"Monto obtenido por venta:\", montoven)\n",
        "print(\"Comisión de venta:\", comiven)\n",
        "print(\"Ganancias o Pérdidas:\", ganancia)\n"
      ]
    },
    {
      "cell_type": "markdown",
      "source": [
        "Pseudocodigo\n",
        "\n",
        "Start\n",
        "\n",
        "  Declare acciones, compra, venta, comision, montocom, comicom, montoven, comiven, ganancia as Float\n",
        "\n",
        "  Set acciones = 1000\n",
        "\n",
        "  Set compra = 32.87\n",
        "\n",
        "  Set venta = 33.92\n",
        "\n",
        "  Set comision = 0.02\n",
        "\n",
        "  Set montocom = acciones * compra\n",
        "\n",
        "  Set comicom = montocom * comision\n",
        "\n",
        "  Set montoven = acciones * venta\n",
        "\n",
        "  Set comiven = montoven * comision\n",
        "\n",
        "  Set ganancia = (montoven - comiven) - (montocom + comicom)\n",
        "\n",
        "  Display \"Monto pagado por acciones:\", montocom\n",
        "\n",
        "  Display \"Comisión de compra:\", comicom\n",
        "\n",
        "  Display \"Monto obtenido por venta:\", montoven\n",
        "\n",
        "  Display \"Comisión de venta:\", comiven\n",
        "\n",
        "  Display \"Ganancias o Pérdidas:\", ganancia\n",
        "\n",
        "End\n"
      ],
      "metadata": {
        "id": "0XqWM931t7J1"
      }
    }
  ]
}