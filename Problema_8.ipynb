{
  "nbformat": 4,
  "nbformat_minor": 0,
  "metadata": {
    "colab": {
      "provenance": [],
      "authorship_tag": "ABX9TyN+Rnqp8ugFadry1VxEL6vg",
      "include_colab_link": true
    },
    "kernelspec": {
      "name": "python3",
      "display_name": "Python 3"
    },
    "language_info": {
      "name": "python"
    }
  },
  "cells": [
    {
      "cell_type": "markdown",
      "metadata": {
        "id": "view-in-github",
        "colab_type": "text"
      },
      "source": [
        "<a href=\"https://colab.research.google.com/github/SaO47/FundProg_202510/blob/main/Problema_8.ipynb\" target=\"_parent\"><img src=\"https://colab.research.google.com/assets/colab-badge.svg\" alt=\"Open In Colab\"/></a>"
      ]
    },
    {
      "cell_type": "code",
      "execution_count": null,
      "metadata": {
        "id": "mALb_7MZSaOE"
      },
      "outputs": [],
      "source": [
        "costo = float(input(\"Ingrese el costo de la comida: \"))\n",
        "tip = 0.15\n",
        "tax = 0.07\n",
        "monto_tip = costo * tip\n",
        "monto_tax = costo * tax\n",
        "total = costo + monto_tip + monto_tax\n",
        "\n",
        "print(\"Costo de la comida:\", costo)\n",
        "print(\"Propina:\", monto_tip)\n",
        "print(\"Impuesto:\", monto_tax)\n",
        "print(\"Total a pagar:\", total)\n"
      ]
    },
    {
      "cell_type": "markdown",
      "source": [
        "Pseudocodigo\n",
        "\n",
        "Start\n",
        "    \n",
        "  Declare costo, tip, tax, monto_tip, monto_tax, total as Float\n",
        "\n",
        "  Display \"Ingrese el costo de la comida: \"\n",
        "\n",
        "  Set costo = Input()\n",
        "\n",
        "  Set tip = 0.15\n",
        "\n",
        "  Set tax = 0.07\n",
        "\n",
        "  Set monto_tip = costo * tip\n",
        "\n",
        "  Set monto_tax = costo * tax\n",
        "\n",
        "  Set total = costo + monto_tip + monto_tax\n",
        "\n",
        "  Display \"Costo de la comida:\", costo\n",
        "\n",
        "  Display \"Propina:\", monto_tip\n",
        "\n",
        "  Display \"Impuesto:\", monto_tax\n",
        "\n",
        "  Display \"Total a pagar:\", total\n",
        "\n",
        "End\n"
      ],
      "metadata": {
        "id": "CgOVYJfltHrl"
      }
    }
  ]
}