{
  "nbformat": 4,
  "nbformat_minor": 0,
  "metadata": {
    "colab": {
      "provenance": [],
      "authorship_tag": "ABX9TyMiSRgmYcj3M6hgTQVsQ3sF",
      "include_colab_link": true
    },
    "kernelspec": {
      "name": "python3",
      "display_name": "Python 3"
    },
    "language_info": {
      "name": "python"
    }
  },
  "cells": [
    {
      "cell_type": "markdown",
      "metadata": {
        "id": "view-in-github",
        "colab_type": "text"
      },
      "source": [
        "<a href=\"https://colab.research.google.com/github/SaO47/FundProg_202510/blob/main/Formas%20Ortoedro%20Samuel%20Oyola%20Samuel%20Hernandez%20Sebastian%20Leon.ipynb\" target=\"_parent\"><img src=\"https://colab.research.google.com/assets/colab-badge.svg\" alt=\"Open In Colab\"/></a>"
      ]
    },
    {
      "cell_type": "code",
      "execution_count": null,
      "metadata": {
        "id": "tycmSGcvl991"
      },
      "outputs": [],
      "source": [
        "import math\n",
        "\n",
        "def esfera():\n",
        "    radio = float(input(\"Introduce el radio de la esfera: \"))\n",
        "    area = 4 * math.pi * radio**2\n",
        "    volumen = (4/3) * math.pi * radio**3\n",
        "    print(f\"Área de la esfera: {area:.2f}\")\n",
        "    print(f\"Volumen de la esfera: {volumen:.2f}\")\n",
        "\n",
        "def ortoedro():\n",
        "    largo = float(input(\"Introduce el largo del ortoedro: \"))\n",
        "    ancho = float(input(\"Introduce el ancho del ortoedro: \"))\n",
        "    alto = float(input(\"Introduce el alto del ortoedro: \"))\n",
        "    area = 2 * (largo * ancho + largo * alto + ancho * alto)\n",
        "    volumen = largo * ancho * alto\n",
        "    print(f\"Área del ortoedro: {area:.2f}\")\n",
        "    print(f\"Volumen del ortoedro: {volumen:.2f}\")\n",
        "\n",
        "def cilindro():\n",
        "    radio = float(input(\"Introduce el radio de la base del cilindro: \"))\n",
        "    altura = float(input(\"Introduce la altura del cilindro: \"))\n",
        "    area = 2 * math.pi * radio * (radio + altura)\n",
        "    volumen = math.pi * radio**2 * altura\n",
        "    print(f\"Área del cilindro: {area:.2f}\")\n",
        "    print(f\"Volumen del cilindro: {volumen:.2f}\")\n",
        "\n",
        "def menu():\n",
        "    print(\"Elige una opción:\")\n",
        "    print(\"1. Esfera\")\n",
        "    print(\"2. Ortoedro\")\n",
        "    print(\"3. Cilindro\")\n",
        "    opcion = int(input(\"Opción: \"))\n",
        "\n",
        "    if opcion == 1:\n",
        "        esfera()\n",
        "    elif opcion == 2:\n",
        "        ortoedro()\n",
        "    elif opcion == 3:\n",
        "        cilindro()\n",
        "    else:\n",
        "        print(\"Opción no válida\")\n",
        "\n",
        "menu()\n",
        "\n"
      ]
    }
  ]
}