{
  "nbformat": 4,
  "nbformat_minor": 0,
  "metadata": {
    "colab": {
      "provenance": [],
      "authorship_tag": "ABX9TyN7xSS9PG36CSUax6Y2yMgT",
      "include_colab_link": true
    },
    "kernelspec": {
      "name": "python3",
      "display_name": "Python 3"
    },
    "language_info": {
      "name": "python"
    }
  },
  "cells": [
    {
      "cell_type": "markdown",
      "metadata": {
        "id": "view-in-github",
        "colab_type": "text"
      },
      "source": [
        "<a href=\"https://colab.research.google.com/github/SaO47/FundProg_202510/blob/main/Problema_18.ipynb\" target=\"_parent\"><img src=\"https://colab.research.google.com/assets/colab-badge.svg\" alt=\"Open In Colab\"/></a>"
      ]
    },
    {
      "cell_type": "code",
      "execution_count": null,
      "metadata": {
        "colab": {
          "base_uri": "https://localhost:8080/"
        },
        "id": "Fl7CKjz7SJC4",
        "outputId": "19768f07-83fd-45cd-9f3c-daaa2ad64636"
      },
      "outputs": [
        {
          "output_type": "stream",
          "name": "stdout",
          "text": [
            "Ingresar su edad: 32\n",
            "Usted tiene 11680 dias\n"
          ]
        }
      ],
      "source": [
        "edad = input(\"Ingresar su edad: \")\n",
        "dias = int(edad) * 365\n",
        "print(\"Usted tiene\", dias, \"dias\")"
      ]
    },
    {
      "cell_type": "markdown",
      "source": [
        "Pseudocodigo\n",
        "\n",
        "Start\n",
        "    \n",
        "  Declare edad as Integer\n",
        "\n",
        "  Declare dias as Integer\n",
        "\n",
        "  Display \"Ingresar su edad: \"\n",
        "\n",
        "  Set edad = Input()\n",
        "\n",
        "  Set dias = edad * 365\n",
        "\n",
        "  Display \"Usted tiene\", dias, \"dias\"\n",
        "\n",
        "End\n"
      ],
      "metadata": {
        "id": "C1DKy0PLxG6z"
      }
    }
  ]
}