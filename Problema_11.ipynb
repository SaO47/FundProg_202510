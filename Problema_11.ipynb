{
  "nbformat": 4,
  "nbformat_minor": 0,
  "metadata": {
    "colab": {
      "provenance": [],
      "authorship_tag": "ABX9TyNCyKJt7hHcP2IFsQ1yUenf",
      "include_colab_link": true
    },
    "kernelspec": {
      "name": "python3",
      "display_name": "Python 3"
    },
    "language_info": {
      "name": "python"
    }
  },
  "cells": [
    {
      "cell_type": "markdown",
      "metadata": {
        "id": "view-in-github",
        "colab_type": "text"
      },
      "source": [
        "<a href=\"https://colab.research.google.com/github/SaO47/FundProg_202510/blob/main/Problema_11.ipynb\" target=\"_parent\"><img src=\"https://colab.research.google.com/assets/colab-badge.svg\" alt=\"Open In Colab\"/></a>"
      ]
    },
    {
      "cell_type": "code",
      "execution_count": null,
      "metadata": {
        "id": "z17rcOQNSX-H",
        "colab": {
          "base_uri": "https://localhost:8080/"
        },
        "outputId": "37da58b5-447e-44ac-fd33-b4b52a0d6505"
      },
      "outputs": [
        {
          "output_type": "stream",
          "name": "stdout",
          "text": [
            "Ingrese el precio de compra de la vivienda: 222\n",
            "Ingrese los costos de remodelación: 2222\n",
            "Ingrese el precio de venta de la vivienda: 222\n",
            "Ingrese el porcentaje de comisión sobre la venta: 222\n",
            "Precio de compra: 222.0\n",
            "Costos de remodelación: 2222.0\n",
            "Precio de venta: 222.0\n",
            "Comisión de venta: 492.84000000000003\n",
            "Utilidad o Pérdida: -2714.84\n"
          ]
        }
      ],
      "source": [
        "\n",
        "compra = float(input(\"Ingrese el precio de compra de la vivienda: \"))\n",
        "remodel = float(input(\"Ingrese los costos de remodelación: \"))\n",
        "venta = float(input(\"Ingrese el precio de venta de la vivienda: \"))\n",
        "comision = float(input(\"Ingrese el porcentaje de comisión sobre la venta: \"))\n",
        "\n",
        "porcentaje = comision / 100\n",
        "montocomi = venta * porcentaje\n",
        "utilidad = venta - (compra + remodel + montocomi)\n",
        "\n",
        "print(\"Precio de compra:\", compra)\n",
        "print(\"Costos de remodelación:\", remodel)\n",
        "print(\"Precio de venta:\", venta)\n",
        "print(\"Comisión de venta:\", montocomi)\n",
        "print(\"Utilidad o Pérdida:\", utilidad)\n",
        "\n"
      ]
    },
    {
      "cell_type": "markdown",
      "source": [
        "Pseudocodigo\n",
        "Start\n",
        "\n",
        "  Declare compra, remodel, venta, comision, porcentaje, montocomi, utilidad as Float\n",
        "\n",
        "  Display \"Ingrese el precio de compra de la vivienda: \"\n",
        "\n",
        "  Set compra = Input()\n",
        "\n",
        "  Display \"Ingrese los costos de remodelación: \"\n",
        "\n",
        "  Set remodel = Input()\n",
        "\n",
        "  Display \"Ingrese el precio de venta de la vivienda: \"\n",
        "\n",
        "  Set venta = Input()\n",
        "\n",
        "  Display \"Ingrese el porcentaje de comisión sobre la venta: \"\n",
        "\n",
        "  Set comision = Input()\n",
        "\n",
        "  Set porcentaje = comision / 100\n",
        "\n",
        "  Set montocomi = venta * porcentaje\n",
        "\n",
        "  Set utilidad = venta - (compra + remodel + montocomi)\n",
        "\n",
        "  Display \"Precio de compra:\", compra\n",
        "\n",
        "  Display \"Costos de remodelación:\", remodel\n",
        "\n",
        "  Display \"Precio de venta:\", venta\n",
        "\n",
        "  Display \"Comisión de venta:\", montocomi\n",
        "\n",
        "  Display \"Utilidad o Pérdida:\", utilidad\n",
        "\n",
        "End\n"
      ],
      "metadata": {
        "id": "To8IyaBhuTQG"
      }
    }
  ]
}