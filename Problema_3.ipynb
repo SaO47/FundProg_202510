{
  "nbformat": 4,
  "nbformat_minor": 0,
  "metadata": {
    "colab": {
      "provenance": [],
      "authorship_tag": "ABX9TyMKG4yUwDns187zdRY4Q0DT",
      "include_colab_link": true
    },
    "kernelspec": {
      "name": "python3",
      "display_name": "Python 3"
    },
    "language_info": {
      "name": "python"
    }
  },
  "cells": [
    {
      "cell_type": "markdown",
      "metadata": {
        "id": "view-in-github",
        "colab_type": "text"
      },
      "source": [
        "<a href=\"https://colab.research.google.com/github/SaO47/FundProg_202510/blob/main/Problema_3.ipynb\" target=\"_parent\"><img src=\"https://colab.research.google.com/assets/colab-badge.svg\" alt=\"Open In Colab\"/></a>"
      ]
    },
    {
      "cell_type": "code",
      "execution_count": null,
      "metadata": {
        "id": "VK-_I0VfSF-q",
        "colab": {
          "base_uri": "https://localhost:8080/"
        },
        "outputId": "2d22cb56-ac54-4fb3-ed3b-fca490c0c287",
        "collapsed": true
      },
      "outputs": [
        {
          "output_type": "stream",
          "name": "stdout",
          "text": [
            "Cuantos pies cuadrados tiene el terreno: 23231231\n",
            "El terreno tiene 533.3156795224977 acres\n"
          ]
        }
      ],
      "source": [
        "pies = float(input(\"Cuantos pies cuadrados tiene el terreno: \"))\n",
        "Acres = pies/43560\n",
        "print(\"El terreno tiene\",Acres,\"acres\")\n"
      ]
    },
    {
      "cell_type": "markdown",
      "source": [
        "Pseudocodigo\n",
        "\n",
        "Start\n",
        "  \n",
        "  Declare pies, Acres as Float\n",
        "\n",
        "  Display \"Cuantos pies cuadrados tiene el terreno: \"\n",
        "  \n",
        "  Set pies = Input()\n",
        "\n",
        "  Set Acres = pies / 43560\n",
        "\n",
        "  Display \"El terreno tiene\", Acres, \"acres\"\n",
        "  \n",
        "End\n"
      ],
      "metadata": {
        "id": "4VfTqaz2rMIj"
      }
    }
  ]
}