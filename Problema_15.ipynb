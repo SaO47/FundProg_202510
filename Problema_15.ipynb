{
  "nbformat": 4,
  "nbformat_minor": 0,
  "metadata": {
    "colab": {
      "provenance": [],
      "authorship_tag": "ABX9TyMOH6uPD48mn4qh/7Qc3iMJ",
      "include_colab_link": true
    },
    "kernelspec": {
      "name": "python3",
      "display_name": "Python 3"
    },
    "language_info": {
      "name": "python"
    }
  },
  "cells": [
    {
      "cell_type": "markdown",
      "metadata": {
        "id": "view-in-github",
        "colab_type": "text"
      },
      "source": [
        "<a href=\"https://colab.research.google.com/github/SaO47/FundProg_202510/blob/main/Problema_15.ipynb\" target=\"_parent\"><img src=\"https://colab.research.google.com/assets/colab-badge.svg\" alt=\"Open In Colab\"/></a>"
      ]
    },
    {
      "cell_type": "code",
      "execution_count": null,
      "metadata": {
        "id": "wAkqjvrKSU5Q",
        "colab": {
          "base_uri": "https://localhost:8080/"
        },
        "outputId": "0a0705b1-38e7-4e59-f58c-ac34d8ff89f6"
      },
      "outputs": [
        {
          "output_type": "stream",
          "name": "stdout",
          "text": [
            "Ingrese su salario bruto mensual: 222\n",
            "Ingrese el porcentaje de impuestos a aplicar: 222\n",
            "Salario bruto: 222.0\n",
            "Monto de impuestos: 492.84000000000003\n",
            "Salario neto: -270.84000000000003\n"
          ]
        }
      ],
      "source": [
        "salarbruto = float(input(\"Ingrese su salario bruto mensual: \"))\n",
        "impuesto = float(input(\"Ingrese el porcentaje de impuestos a aplicar: \"))\n",
        "\n",
        "porcentaje = impuesto / 100\n",
        "montimp = salarbruto * porcentaje\n",
        "salarneto = salarbruto - montimp\n",
        "print(\"Salario bruto:\", salarbruto)\n",
        "print(\"Monto de impuestos:\", montimp)\n",
        "print(\"Salario neto:\", salarneto)\n"
      ]
    },
    {
      "cell_type": "markdown",
      "source": [
        "Pseudocodigo\n",
        "\n",
        "Start\n",
        "\n",
        "  Declare salarbruto, impuesto, porcentaje, montimp, salarneto as Float\n",
        "\n",
        "  Display \"Ingrese su salario bruto mensual: \"\n",
        "\n",
        "  Set salarbruto = Input()\n",
        "\n",
        "  Display \"Ingrese el porcentaje de impuestos a aplicar: \"\n",
        "\n",
        "  Set impuesto = Input()\n",
        "\n",
        "  Set porcentaje = impuesto / 100\n",
        "\n",
        "  Set montimp = salarbruto * porcentaje\n",
        "\n",
        "  Set salarneto = salarbruto - montimp\n",
        "\n",
        "  Display \"Salario bruto:\", salarbruto\n",
        "\n",
        "  Display \"Monto de impuestos:\", montimp\n",
        "\n",
        "  Display \"Salario neto:\", salarneto\n",
        "\n",
        "End\n"
      ],
      "metadata": {
        "id": "dRtxiXjUwcwk"
      }
    }
  ]
}