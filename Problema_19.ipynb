{
  "nbformat": 4,
  "nbformat_minor": 0,
  "metadata": {
    "colab": {
      "provenance": [],
      "authorship_tag": "ABX9TyOS8Mi58gazknyJUTIYpOFw",
      "include_colab_link": true
    },
    "kernelspec": {
      "name": "python3",
      "display_name": "Python 3"
    },
    "language_info": {
      "name": "python"
    }
  },
  "cells": [
    {
      "cell_type": "markdown",
      "metadata": {
        "id": "view-in-github",
        "colab_type": "text"
      },
      "source": [
        "<a href=\"https://colab.research.google.com/github/SaO47/FundProg_202510/blob/main/Problema_19.ipynb\" target=\"_parent\"><img src=\"https://colab.research.google.com/assets/colab-badge.svg\" alt=\"Open In Colab\"/></a>"
      ]
    },
    {
      "cell_type": "code",
      "execution_count": null,
      "metadata": {
        "id": "Tf8xhGhGV9Ao",
        "colab": {
          "base_uri": "https://localhost:8080/"
        },
        "outputId": "3f4d7fd6-e454-442c-a5c4-21715cb4c42f"
      },
      "outputs": [
        {
          "output_type": "stream",
          "name": "stdout",
          "text": [
            "Ingrese el capital inicial: 22\n",
            "Ingrese la tasa de interés anual: 22\n",
            "Ingrese el número de años: 22\n",
            "Cantidad de veces que se capitaliza por año (1, 2, 4, 12): 2\n",
            "El monto final es: 2170.869652181334\n"
          ]
        }
      ],
      "source": [
        "capital = float(input(\"Ingrese el capital inicial: \"))\n",
        "tasa = float(input(\"Ingrese la tasa de interés anual: \"))\n",
        "tiempo = int(input(\"Ingrese el número de años: \"))\n",
        "t = tasa / 100\n",
        "n = int(input(\"Cantidad de veces que se capitaliza por año (1, 2, 4, 12): \"))\n",
        "Monfi = (capital * (1 + t/n)**(n*tiempo))\n",
        "print(\"El monto final es:\", Monfi)"
      ]
    },
    {
      "cell_type": "markdown",
      "source": [
        "Pseudocodigo\n",
        "\n",
        "Start\n",
        "\n",
        "  Declare capital, tasa, t, Monfi as Float\n",
        "\n",
        "  Declare tiempo, n as Integer\n",
        "\n",
        "  Display \"Ingrese el capital inicial: \"\n",
        "\n",
        "  Set capital = Input()\n",
        "\n",
        "  Display \"Ingrese la tasa de interés anual: \"\n",
        "\n",
        "  Set tasa = Input()\n",
        "\n",
        "  Display \"Ingrese el número de años: \"\n",
        "\n",
        "  Set tiempo = Input()\n",
        "\n",
        "  Set t = tasa / 100\n",
        "\n",
        "  Display \"Cantidad de veces que se capitaliza por año (1, 2, 4, 12): \"\n",
        "\n",
        "  Set n = Input()\n",
        "\n",
        "  Set Monfi = capital * (1 + t/n) ** (n * tiempo)\n",
        "\n",
        "  Display \"El monto final es:\", Monfi\n",
        "\n",
        "End\n"
      ],
      "metadata": {
        "id": "AAk2On_sxXmk"
      }
    }
  ]
}