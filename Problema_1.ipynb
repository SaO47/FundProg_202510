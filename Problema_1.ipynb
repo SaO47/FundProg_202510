{
  "nbformat": 4,
  "nbformat_minor": 0,
  "metadata": {
    "colab": {
      "provenance": [],
      "authorship_tag": "ABX9TyOh/CVZpLwEvOqJMbF1OHF+",
      "include_colab_link": true
    },
    "kernelspec": {
      "name": "python3",
      "display_name": "Python 3"
    },
    "language_info": {
      "name": "python"
    }
  },
  "cells": [
    {
      "cell_type": "markdown",
      "metadata": {
        "id": "view-in-github",
        "colab_type": "text"
      },
      "source": [
        "<a href=\"https://colab.research.google.com/github/SaO47/FundProg_202510/blob/main/Problema_1.ipynb\" target=\"_parent\"><img src=\"https://colab.research.google.com/assets/colab-badge.svg\" alt=\"Open In Colab\"/></a>"
      ]
    },
    {
      "cell_type": "code",
      "execution_count": null,
      "metadata": {
        "colab": {
          "base_uri": "https://localhost:8080/"
        },
        "id": "iSFPdGDFMWgU",
        "outputId": "9df4d475-b1a1-4cbe-8223-090e4f135abc",
        "collapsed": true
      },
      "outputs": [
        {
          "output_type": "stream",
          "name": "stdout",
          "text": [
            "Ingresa tu nombre: s\n",
            "Ingresa tu dirección: s\n",
            "Ingresa tu ciudad: s\n",
            "Ingresa tu estado: s\n",
            "Ingresa tu código postal: s\n",
            "Ingresa tu número de teléfono: s\n",
            "Ingresa tu especialización universitaria: s\n",
            "\n",
            "=== Información Personal ===\n",
            "Nombre: s\n",
            "Dirección: s\n",
            "Ciudad: s\n",
            "Estado: s\n",
            "Código Postal: s\n",
            "Teléfono: s\n",
            "Especialización: s\n"
          ]
        }
      ],
      "source": [
        "nombre = input(\"Ingresa tu nombre: \")\n",
        "direccion = input(\"Ingresa tu dirección: \")\n",
        "ciudad = input(\"Ingresa tu ciudad: \")\n",
        "estado = input(\"Ingresa tu estado: \")\n",
        "codigo_postal = input(\"Ingresa tu código postal: \")\n",
        "telefono = input(\"Ingresa tu número de teléfono: \")\n",
        "especializacion = input(\"Ingresa tu especialización universitaria: \")\n",
        "\n",
        "print(\"=== Información Personal ===\")\n",
        "print(nombre)\n",
        "print(direccion)\n",
        "print(ciudad)\n",
        "print(estado)\n",
        "print(codigo_postal)\n",
        "print(telefono)\n",
        "print(especializacion)\n",
        "\n"
      ]
    },
    {
      "cell_type": "markdown",
      "source": [
        "Pseudocodigo\n",
        "\n",
        "Start\n",
        "  \n",
        "  Declare nombre, direccion, ciudad, estado, codigo_postal, telefono, especializacion as String\n",
        "    \n",
        "  Display \"Ingresa tu nombre: \"\n",
        "  \n",
        "  Set nombre = Input()\n",
        "  \n",
        "  Display \"Ingresa tu dirección: \"\n",
        "  \n",
        "  Set direccion = Input()\n",
        "  \n",
        "  Display \"Ingresa tu ciudad: \"\n",
        "  \n",
        "  Set ciudad = Input()\n",
        "  \n",
        "  Display \"Ingresa tu estado: \"\n",
        "  \n",
        "  Set estado = Input()\n",
        "  \n",
        "  Display \"Ingresa tu código postal: \"\n",
        "  \n",
        "  Set codigo_postal = Input()\n",
        "  \n",
        "  Display \"Ingresa tu número de teléfono: \"\n",
        "  \n",
        "  Set telefono = Input()\n",
        "  \n",
        "  Display \"Ingresa tu especialización universitaria: \"\n",
        "  \n",
        "  Set especializacion = Input()\n",
        "  \n",
        "  Display \"=== Información Personal ===\"\n",
        "  \n",
        "  Display nombre\n",
        "  \n",
        "  Display direccion\n",
        "  \n",
        "  Display ciudad\n",
        "  \n",
        "  Display estado\n",
        "  \n",
        "  Display codigo_postal\n",
        "  \n",
        "  Display telefono\n",
        "  \n",
        "  Display especializacion\n",
        "\n",
        "End"
      ],
      "metadata": {
        "id": "jv-pA4TIpbXE"
      }
    }
  ]
}