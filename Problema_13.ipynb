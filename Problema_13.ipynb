{
  "nbformat": 4,
  "nbformat_minor": 0,
  "metadata": {
    "colab": {
      "provenance": [],
      "authorship_tag": "ABX9TyPHZklT0OhxbzldO1I8jTb1",
      "include_colab_link": true
    },
    "kernelspec": {
      "name": "python3",
      "display_name": "Python 3"
    },
    "language_info": {
      "name": "python"
    }
  },
  "cells": [
    {
      "cell_type": "markdown",
      "metadata": {
        "id": "view-in-github",
        "colab_type": "text"
      },
      "source": [
        "<a href=\"https://colab.research.google.com/github/SaO47/FundProg_202510/blob/main/Problema_13.ipynb\" target=\"_parent\"><img src=\"https://colab.research.google.com/assets/colab-badge.svg\" alt=\"Open In Colab\"/></a>"
      ]
    },
    {
      "cell_type": "code",
      "execution_count": null,
      "metadata": {
        "id": "mR7ObclESZiD",
        "colab": {
          "base_uri": "https://localhost:8080/"
        },
        "outputId": "8545d422-abbb-4c36-cb97-6b0129d7519f",
        "collapsed": true
      },
      "outputs": [
        {
          "output_type": "stream",
          "name": "stdout",
          "text": [
            "Ingrese la cantidad de muffins a producir: 32323\n",
            "Cantidad de leche en ml: 775752.0\n",
            "Cantidad de harina en g: 905044.0\n",
            "Cantidad de levadura en g: 96969.0\n",
            "Cantidad de sal en g: 8080.75\n",
            "Cantidad de azúcar en g: 323230.0\n",
            "Cantidad de huevos: 6464.6\n",
            "Cantidad de mantequilla en g: 48484.5\n"
          ]
        }
      ],
      "source": [
        "totalmuf = int(input(\"Ingrese la cantidad de muffins a producir: \"))\n",
        "leche = 240 / 10\n",
        "harina = 280 / 10\n",
        "levadura = 30 / 10\n",
        "sal = 2.5 / 10\n",
        "azucar = 100 / 10\n",
        "huevos = 2 / 10\n",
        "manteq = 15 / 10\n",
        "\n",
        "cantleche = leche * totalmuf\n",
        "cantharina = harina * totalmuf\n",
        "cantlevadura = levadura * totalmuf\n",
        "cantsal = sal * totalmuf\n",
        "cantazucar = azucar * totalmuf\n",
        "canthuevos = huevos * totalmuf\n",
        "cantmanteq = manteq * totalmuf\n",
        "\n",
        "print(\"Cantidad de leche en ml:\", cantleche)\n",
        "print(\"Cantidad de harina en g:\", cantharina)\n",
        "print(\"Cantidad de levadura en g:\", cantlevadura)\n",
        "print(\"Cantidad de sal en g:\", cantsal)\n",
        "print(\"Cantidad de azúcar en g:\", cantazucar)\n",
        "print(\"Cantidad de huevos:\", canthuevos)\n",
        "print(\"Cantidad de mantequilla en g:\", cantmanteq)\n"
      ]
    },
    {
      "cell_type": "markdown",
      "source": [
        "Pseudocodigo\n",
        "\n",
        "Start\n",
        "\n",
        "  Declare totalmuf as Integer\n",
        "\n",
        "  Declare leche, harina, levadura, sal, azucar, huevos, manteq as Float\n",
        "\n",
        "  Declare cantleche, cantharina, cantlevadura, cantsal, cantazucar, canthuevos, cantmanteq as Float\n",
        "\n",
        "  Display \"Ingrese la cantidad de muffins a producir: \"\n",
        "\n",
        "  Set totalmuf = Input()\n",
        "\n",
        "  Set leche = 240 / 10\n",
        "\n",
        "  Set harina = 280 / 10\n",
        "\n",
        "  Set levadura = 30 / 10\n",
        "\n",
        "  Set sal = 2.5 / 10\n",
        "\n",
        "  Set azucar = 100 / 10\n",
        "\n",
        "  Set huevos = 2 / 10\n",
        "\n",
        "  Set manteq = 15 / 10\n",
        "\n",
        "  Set cantleche = leche * totalmuf\n",
        "\n",
        "  Set cantharina = harina * totalmuf\n",
        "\n",
        "  Set cantlevadura = levadura * totalmuf\n",
        "\n",
        "  Set cantsal = sal * totalmuf\n",
        "\n",
        "  Set cantazucar = azucar * totalmuf\n",
        "\n",
        "  Set canthuevos = huevos * totalmuf\n",
        "\n",
        "  Set cantmanteq = manteq * totalmuf\n",
        "\n",
        "  Display \"Cantidad de leche en ml:\", cantleche\n",
        "\n",
        "  Display \"Cantidad de harina en g:\", cantharina\n",
        "\n",
        "  Display \"Cantidad de levadura en g:\", cantlevadura\n",
        "\n",
        "  Display \"Cantidad de sal en g:\", cantsal\n",
        "\n",
        "  Display \"Cantidad de azúcar en g:\", cantazucar\n",
        "\n",
        "  Display \"Cantidad de huevos:\", canthuevos\n",
        "\n",
        "  Display \"Cantidad de mantequilla en g:\", cantmanteq\n",
        "\n",
        "End\n",
        "\n"
      ],
      "metadata": {
        "id": "_fVuzWAa6wjo"
      }
    }
  ]
}