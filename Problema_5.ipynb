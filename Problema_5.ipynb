{
  "nbformat": 4,
  "nbformat_minor": 0,
  "metadata": {
    "colab": {
      "provenance": [],
      "authorship_tag": "ABX9TyMNB6a8I+xCTImn604G/qUT",
      "include_colab_link": true
    },
    "kernelspec": {
      "name": "python3",
      "display_name": "Python 3"
    },
    "language_info": {
      "name": "python"
    }
  },
  "cells": [
    {
      "cell_type": "markdown",
      "metadata": {
        "id": "view-in-github",
        "colab_type": "text"
      },
      "source": [
        "<a href=\"https://colab.research.google.com/github/SaO47/FundProg_202510/blob/main/Problema_5.ipynb\" target=\"_parent\"><img src=\"https://colab.research.google.com/assets/colab-badge.svg\" alt=\"Open In Colab\"/></a>"
      ]
    },
    {
      "cell_type": "code",
      "execution_count": null,
      "metadata": {
        "id": "HMCKUbCSScdr",
        "colab": {
          "base_uri": "https://localhost:8080/"
        },
        "outputId": "87b03df9-9ca4-4d49-b3b9-8dd1fdb65781"
      },
      "outputs": [
        {
          "output_type": "stream",
          "name": "stdout",
          "text": [
            "La distancia recorrida en 5 horas es: 300 millas\n",
            "La distancia recorrida en 8 horas es: 480 millas\n",
            "La distancia recorrida en 12 horas es: 720 millas\n"
          ]
        }
      ],
      "source": [
        "\n",
        "velocidad = 60\n",
        "\n",
        "tiempo1 = 5\n",
        "tiempo2 = 8\n",
        "tiempo3 = 12\n",
        "\n",
        "distancia1 = velocidad * tiempo1\n",
        "distancia2 = velocidad * tiempo2\n",
        "distancia3 = velocidad * tiempo3\n",
        "\n",
        "print(\"La distancia recorrida en 5 horas es:\", distancia1, \"millas\")\n",
        "print(\"La distancia recorrida en 8 horas es:\", distancia2, \"millas\")\n",
        "print(\"La distancia recorrida en 12 horas es:\", distancia3, \"millas\")\n"
      ]
    },
    {
      "cell_type": "markdown",
      "source": [
        "Pseudocodigo\n",
        "\n",
        "Start\n",
        "    \n",
        "  Declare velocidad, tiempo1, tiempo2, tiempo3, distancia1, distancia2, distancia3 as Float\n",
        "\n",
        "  Set velocidad = 60\n",
        "\n",
        "  Set tiempo1 = 5\n",
        "\n",
        "  Set tiempo2 = 8\n",
        "\n",
        "  Set tiempo3 = 12\n",
        "\n",
        "  Set distancia1 = velocidad * tiempo1\n",
        "\n",
        "  Set distancia2 = velocidad * tiempo2\n",
        "\n",
        "  Set distancia3 = velocidad * tiempo3\n",
        "\n",
        "  Display \"La distancia recorrida en 5 horas es:\", distancia1, \"millas\"\n",
        "\n",
        "  Display \"La distancia recorrida en 8 horas es:\", distancia2, \"millas\"\n",
        "\n",
        "  Display \"La distancia recorrida en 12 horas es:\", distancia3, \"millas\"\n",
        "\n",
        "End\n"
      ],
      "metadata": {
        "id": "D6Iuw3GBr__8"
      }
    }
  ]
}