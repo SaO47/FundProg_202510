{
  "nbformat": 4,
  "nbformat_minor": 0,
  "metadata": {
    "colab": {
      "provenance": [],
      "authorship_tag": "ABX9TyNkPiznWOzzDTWHGL1JoE3c",
      "include_colab_link": true
    },
    "kernelspec": {
      "name": "python3",
      "display_name": "Python 3"
    },
    "language_info": {
      "name": "python"
    }
  },
  "cells": [
    {
      "cell_type": "markdown",
      "metadata": {
        "id": "view-in-github",
        "colab_type": "text"
      },
      "source": [
        "<a href=\"https://colab.research.google.com/github/SaO47/FundProg_202510/blob/main/Problema_16.ipynb\" target=\"_parent\"><img src=\"https://colab.research.google.com/assets/colab-badge.svg\" alt=\"Open In Colab\"/></a>"
      ]
    },
    {
      "cell_type": "code",
      "execution_count": null,
      "metadata": {
        "id": "ZbvONAsSSTXw",
        "colab": {
          "base_uri": "https://localhost:8080/"
        },
        "outputId": "0e2f574e-6073-467d-8e35-09d17e4cb8e9"
      },
      "outputs": [
        {
          "output_type": "stream",
          "name": "stdout",
          "text": [
            "Ingresar su peso en Kg: 21\n",
            "Ingresar su peso en Metros: 21\n",
            "Su Indice de masa corporal es: 0.047619047619047616\n"
          ]
        }
      ],
      "source": [
        "Peso = float(input(\"Ingresar su peso en Kg: \"))\n",
        "Altura = float(input(\"Ingresar su peso en Metros: \"))\n",
        "IMC = Peso / Altura ** 2\n",
        "print(\"Su Indice de masa corporal es:\", IMC)"
      ]
    },
    {
      "cell_type": "markdown",
      "source": [
        "Pseudocodigo\n",
        "\n",
        "Start\n",
        "\n",
        "  Declare Peso, Altura, IMC as Float\n",
        "\n",
        "  Display \"Ingresar su peso en Kg: \"\n",
        "\n",
        "  Set Peso = Input()\n",
        "\n",
        "  Display \"Ingresar su altura en Metros: \"\n",
        "\n",
        "  Set Altura = Input()\n",
        "\n",
        "  Set IMC = Peso / (Altura ** 2)\n",
        "\n",
        "  Display \"Su Indice de masa corporal es:\", IMC\n",
        "\n",
        "End\n"
      ],
      "metadata": {
        "id": "9BlpjQL-wvn_"
      }
    }
  ]
}