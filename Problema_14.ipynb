{
  "nbformat": 4,
  "nbformat_minor": 0,
  "metadata": {
    "colab": {
      "provenance": [],
      "authorship_tag": "ABX9TyM0qQnRdKx1gXITXb470ZP2",
      "include_colab_link": true
    },
    "kernelspec": {
      "name": "python3",
      "display_name": "Python 3"
    },
    "language_info": {
      "name": "python"
    }
  },
  "cells": [
    {
      "cell_type": "markdown",
      "metadata": {
        "id": "view-in-github",
        "colab_type": "text"
      },
      "source": [
        "<a href=\"https://colab.research.google.com/github/SaO47/FundProg_202510/blob/main/Problema_14.ipynb\" target=\"_parent\"><img src=\"https://colab.research.google.com/assets/colab-badge.svg\" alt=\"Open In Colab\"/></a>"
      ]
    },
    {
      "cell_type": "code",
      "execution_count": null,
      "metadata": {
        "id": "tpImYRVdSVtX",
        "colab": {
          "base_uri": "https://localhost:8080/"
        },
        "outputId": "629d5373-9bac-4611-a4f8-ad7e77a7f7cb"
      },
      "outputs": [
        {
          "output_type": "stream",
          "name": "stdout",
          "text": [
            "Ingrese la primera nota: 23232\n",
            "Ingrese el peso de la primera nota: 23232\n",
            "Ingrese la segunda nota: 2323\n",
            "Ingrese el peso de la segunda nota: 3232\n",
            "El promedio ponderado es: 20678.42200725514\n"
          ]
        }
      ],
      "source": [
        "nota1 = float(input(\"Ingrese la primera nota: \"))\n",
        "peso1 = float(input(\"Ingrese el peso de la primera nota: \"))\n",
        "nota2 = float(input(\"Ingrese la segunda nota: \"))\n",
        "peso2 = float(input(\"Ingrese el peso de la segunda nota: \"))\n",
        "prompond = (nota1 * peso1 + nota2 * peso2) / (peso1 + peso2)\n",
        "print(\"El promedio ponderado es:\", prompond)\n"
      ]
    },
    {
      "cell_type": "markdown",
      "source": [
        "pseudocodigo\n",
        "\n",
        "Start\n",
        "\n",
        "  Declare nota1, peso1, nota2, peso2, prompond as Float\n",
        "\n",
        "  Display \"Ingrese la primera nota: \"\n",
        "\n",
        "  Set nota1 = Input()\n",
        "\n",
        "  Display \"Ingrese el peso de la primera nota: \"\n",
        "\n",
        "  Set peso1 = Input()\n",
        "\n",
        "  Display \"Ingrese la segunda nota: \"\n",
        "\n",
        "  Set nota2 = Input()\n",
        "\n",
        "  Display \"Ingrese el peso de la segunda nota: \"\n",
        "\n",
        "  Set peso2 = Input()\n",
        "\n",
        "  Set prompond = (nota1 * peso1 + nota2 * peso2) / (peso1 + peso2)\n",
        "\n",
        "  Display \"El promedio ponderado es:\", prompond\n",
        "\n",
        "End\n"
      ],
      "metadata": {
        "id": "g5JhCvvvwHHM"
      }
    },
    {
      "cell_type": "markdown",
      "source": [],
      "metadata": {
        "id": "EOGvrZQYgx40"
      }
    }
  ]
}