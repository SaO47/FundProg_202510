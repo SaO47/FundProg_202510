{
  "nbformat": 4,
  "nbformat_minor": 0,
  "metadata": {
    "colab": {
      "provenance": [],
      "authorship_tag": "ABX9TyMoEMVZ7nJCNoTZIRNqSXLb",
      "include_colab_link": true
    },
    "kernelspec": {
      "name": "python3",
      "display_name": "Python 3"
    },
    "language_info": {
      "name": "python"
    }
  },
  "cells": [
    {
      "cell_type": "markdown",
      "metadata": {
        "id": "view-in-github",
        "colab_type": "text"
      },
      "source": [
        "<a href=\"https://colab.research.google.com/github/SaO47/FundProg_202510/blob/main/Problema_4.ipynb\" target=\"_parent\"><img src=\"https://colab.research.google.com/assets/colab-badge.svg\" alt=\"Open In Colab\"/></a>"
      ]
    },
    {
      "cell_type": "code",
      "execution_count": null,
      "metadata": {
        "id": "jHnLIR3kSdP6",
        "colab": {
          "base_uri": "https://localhost:8080/"
        },
        "outputId": "a593674b-6f7e-42a6-e044-59b5da2fb31e"
      },
      "outputs": [
        {
          "output_type": "stream",
          "name": "stdout",
          "text": [
            "Valor del articulo 1: 2222\n",
            "Valor del articulo 2: 1111\n",
            "Valor del articulo 3: 5555\n",
            "Valor del articulo 4: 6666\n",
            "Valor del articulo 5: 7777\n",
            "El valor total de los articulos es:  23331.0\n",
            "El valor total de los impuestos es:  1399.86\n",
            "El valor total de la compra es:  24730.86\n"
          ]
        }
      ],
      "source": [
        "Art1 = float(input(\"Valor del articulo 1: \"))\n",
        "Art2 = float(input(\"Valor del articulo 2: \"))\n",
        "Art3 = float(input(\"Valor del articulo 3: \"))\n",
        "Art4 = float(input(\"Valor del articulo 4: \"))\n",
        "Art5 = float(input(\"Valor del articulo 5: \"))\n",
        "VaTo = Art1 + Art2 + Art3 + Art4 + Art5\n",
        "ImTo = 0.06\n",
        "Impu = VaTo * ImTo\n",
        "Total = VaTo + Impu\n",
        "\n",
        "print(\"El valor total de los articulos es: \", VaTo)\n",
        "print(\"El valor total de los impuestos es: \", Impu)\n",
        "print(\"El valor total de la compra es: \", Total)\n"
      ]
    },
    {
      "cell_type": "markdown",
      "source": [
        "Pseudocodigo\n",
        "\n",
        "Start\n",
        "\n",
        "  Declare Art1, Art2, Art3, Art4, Art5, VaTo, ImTo, Impu, Total as Float\n",
        "\n",
        "  Display \"Valor del articulo 1: \"\n",
        "\n",
        "  Set Art1 = Input()\n",
        "\n",
        "  Display \"Valor del articulo 2: \"\n",
        "\n",
        "  Set Art2 = Input()\n",
        "\n",
        "  Display \"Valor del articulo 3: \"\n",
        "\n",
        "  Set Art3 = Input()\n",
        "\n",
        "  Display \"Valor del articulo 4: \"\n",
        "\n",
        "  Set Art4 = Input()\n",
        "\n",
        "  Display \"Valor del articulo 5: \"\n",
        "\n",
        "  Set Art5 = Input()\n",
        "\n",
        "  Set VaTo = Art1 + Art2 + Art3 + Art4 + Art5\n",
        "\n",
        "  Set ImTo = 0.06\n",
        "\n",
        "  Set Impu = VaTo * ImTo\n",
        "\n",
        "  Set Total = VaTo + Impu\n",
        "\n",
        "  Display \"El valor total de los articulos es: \", VaTo\n",
        "\n",
        "  Display \"El valor total de los impuestos es: \", Impu\n",
        "\n",
        "  Display \"El valor total de la compra es: \", Total\n",
        "\n",
        "End\n"
      ],
      "metadata": {
        "id": "quMEDLKfred4"
      }
    }
  ]
}