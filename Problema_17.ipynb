{
  "nbformat": 4,
  "nbformat_minor": 0,
  "metadata": {
    "colab": {
      "provenance": [],
      "authorship_tag": "ABX9TyPgTXt9etmqkWyxfczwDRcg",
      "include_colab_link": true
    },
    "kernelspec": {
      "name": "python3",
      "display_name": "Python 3"
    },
    "language_info": {
      "name": "python"
    }
  },
  "cells": [
    {
      "cell_type": "markdown",
      "metadata": {
        "id": "view-in-github",
        "colab_type": "text"
      },
      "source": [
        "<a href=\"https://colab.research.google.com/github/SaO47/FundProg_202510/blob/main/Problema_17.ipynb\" target=\"_parent\"><img src=\"https://colab.research.google.com/assets/colab-badge.svg\" alt=\"Open In Colab\"/></a>"
      ]
    },
    {
      "cell_type": "code",
      "execution_count": null,
      "metadata": {
        "id": "ed-sgf3kTIyB",
        "colab": {
          "base_uri": "https://localhost:8080/"
        },
        "outputId": "d2d4f5e1-c7be-438c-f7aa-627ea8c4a040"
      },
      "outputs": [
        {
          "output_type": "stream",
          "name": "stdout",
          "text": [
            "Temperatura en Grados Celcius: 21\n",
            "69.80000000000001 Grados Fahrenheit\n"
          ]
        }
      ],
      "source": [
        "Celsius = input(\"Temperatura en Grados Celcius: \")\n",
        "Fahrenheit = float(Celsius) * 1.8 + 32\n",
        "print(Fahrenheit, \"Grados Fahrenheit\")"
      ]
    },
    {
      "cell_type": "markdown",
      "source": [
        "Pseudocodigo\n",
        "\n",
        "Start\n",
        "\n",
        "  Declare Celsius, Fahrenheit as Float\n",
        "\n",
        "  Display \"Temperatura en Grados Celsius: \"\n",
        "\n",
        "  Set Celsius = Input()\n",
        "\n",
        "  Set Fahrenheit = Celsius * 1.8 + 32\n",
        "\n",
        "  Display Fahrenheit, \"Grados Fahrenheit\"\n",
        "\n",
        "End"
      ],
      "metadata": {
        "id": "PW-jCBWDtwag"
      }
    }
  ]
}