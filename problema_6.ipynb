{
  "nbformat": 4,
  "nbformat_minor": 0,
  "metadata": {
    "colab": {
      "provenance": [],
      "authorship_tag": "ABX9TyMn96ZAPjAWglr9uX+gWwEU",
      "include_colab_link": true
    },
    "kernelspec": {
      "name": "python3",
      "display_name": "Python 3"
    },
    "language_info": {
      "name": "python"
    }
  },
  "cells": [
    {
      "cell_type": "markdown",
      "metadata": {
        "id": "view-in-github",
        "colab_type": "text"
      },
      "source": [
        "<a href=\"https://colab.research.google.com/github/SaO47/FundProg_202510/blob/main/problema_6.ipynb\" target=\"_parent\"><img src=\"https://colab.research.google.com/assets/colab-badge.svg\" alt=\"Open In Colab\"/></a>"
      ]
    },
    {
      "cell_type": "code",
      "execution_count": null,
      "metadata": {
        "id": "Ve8koCvHSblL",
        "colab": {
          "base_uri": "https://localhost:8080/"
        },
        "outputId": "450dfd92-131f-499f-c80f-741f11a612e2"
      },
      "outputs": [
        {
          "output_type": "stream",
          "name": "stdout",
          "text": [
            "Ingrese la cantidad de la compra: 222\n",
            "Cantidad de la compra: 222.0\n",
            "Impuesto estatal: 8.88\n",
            "Impuesto del condado: 4.44\n",
            "Impuesto total: 13.32\n",
            "Total de la venta: 235.32\n"
          ]
        }
      ],
      "source": [
        "\n",
        "cancom = float(input(\"Ingrese la cantidad de la compra: \"))\n",
        "\n",
        "impest = 0.04\n",
        "impucond = 0.02\n",
        "montoest = cancom * impest\n",
        "montocon = cancom * impucond\n",
        "imputotal = montoest + montocon\n",
        "toventa = cancom + imputotal\n",
        "\n",
        "print(\"Cantidad de la compra:\", cancom)\n",
        "print(\"Impuesto estatal:\", montoest)\n",
        "print(\"Impuesto del condado:\", montocon)\n",
        "print(\"Impuesto total:\", imputotal)\n",
        "print(\"Total de la venta:\", toventa)\n"
      ]
    },
    {
      "cell_type": "markdown",
      "source": [
        "Pseudocodigo\n",
        "\n",
        "Start\n",
        "    \n",
        "  Declare cancom, impest, impucond, montoest, montocon, imputotal, toventa as Float\n",
        "\n",
        "  Display \"Ingrese la cantidad de la compra: \"\n",
        "\n",
        "  Set cancom = Input()\n",
        "\n",
        "  Set impest = 0.04\n",
        "\n",
        "  Set impucond = 0.02\n",
        "\n",
        "  Set montoest = cancom * impest\n",
        "\n",
        "  Set montocon = cancom * impucond\n",
        "\n",
        "  Set imputotal = montoest + montocon\n",
        "\n",
        "  Set toventa = cancom + imputotal\n",
        "\n",
        "  Display \"Cantidad de la compra:\", cancom\n",
        "\n",
        "  Display \"Impuesto estatal:\", montoest\n",
        "\n",
        "  Display \"Impuesto del condado:\", montocon\n",
        "\n",
        "  Display \"Impuesto total:\", imputotal\n",
        "  \n",
        "  Display \"Total de la venta:\", toventa\n",
        "\n",
        "End\n"
      ],
      "metadata": {
        "id": "PkPbtCWzsYba"
      }
    }
  ]
}