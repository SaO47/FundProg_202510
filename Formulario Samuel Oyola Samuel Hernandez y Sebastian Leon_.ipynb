{
  "nbformat": 4,
  "nbformat_minor": 0,
  "metadata": {
    "colab": {
      "provenance": [],
      "authorship_tag": "ABX9TyMGXugO2T94sJEgNdR3LYR1",
      "include_colab_link": true
    },
    "kernelspec": {
      "name": "python3",
      "display_name": "Python 3"
    },
    "language_info": {
      "name": "python"
    }
  },
  "cells": [
    {
      "cell_type": "markdown",
      "metadata": {
        "id": "view-in-github",
        "colab_type": "text"
      },
      "source": [
        "<a href=\"https://colab.research.google.com/github/SaO47/FundProg_202510/blob/main/Formulario%20Samuel%20Oyola%20Samuel%20Hernandez%20y%20Sebastian%20Leon_.ipynb\" target=\"_parent\"><img src=\"https://colab.research.google.com/assets/colab-badge.svg\" alt=\"Open In Colab\"/></a>"
      ]
    },
    {
      "cell_type": "code",
      "execution_count": null,
      "metadata": {
        "id": "jxJ6Wq4mivac",
        "collapsed": true
      },
      "outputs": [],
      "source": [
        "\n",
        "def only_numbers(text):\n",
        "    while True:\n",
        "        entry = input(text)\n",
        "        if entry.isdigit():\n",
        "            return entry\n",
        "        else:\n",
        "            print(\"Please enter only numbers.\")\n",
        "\n",
        "def only_letters(text):\n",
        "    while True:\n",
        "        entry = input(text)\n",
        "        if entry.isalpha():\n",
        "            return entry\n",
        "        else:\n",
        "            print(\"Please enter only letters.\")\n",
        "\n",
        "name = only_letters(\"Enter your name: \")\n",
        "age = only_numbers(\"Enter your age: \")\n",
        "phone = only_numbers(\"Enter your phone number: \")\n",
        "address = input(\"Enter your address: \")\n",
        "color = only_letters(\"Enter your favorite color: \")\n",
        "email = input(\"Enter your email address: \")\n",
        "\n",
        "print(\"Name:\", name)\n",
        "print(\"Age:\", age)\n",
        "print(\"Address:\", address)\n",
        "print(\"Favorite color:\", color)\n",
        "print(\"Phone number:\", phone)\n",
        "print(\"Email address:\", email)\n",
        "\n"
      ]
    }
  ]
}