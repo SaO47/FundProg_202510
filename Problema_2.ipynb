{
  "nbformat": 4,
  "nbformat_minor": 0,
  "metadata": {
    "colab": {
      "provenance": [],
      "authorship_tag": "ABX9TyO/6fcWPP9cnJCdVFAaKuZ8",
      "include_colab_link": true
    },
    "kernelspec": {
      "name": "python3",
      "display_name": "Python 3"
    },
    "language_info": {
      "name": "python"
    }
  },
  "cells": [
    {
      "cell_type": "markdown",
      "metadata": {
        "id": "view-in-github",
        "colab_type": "text"
      },
      "source": [
        "<a href=\"https://colab.research.google.com/github/SaO47/FundProg_202510/blob/main/Problema_2.ipynb\" target=\"_parent\"><img src=\"https://colab.research.google.com/assets/colab-badge.svg\" alt=\"Open In Colab\"/></a>"
      ]
    },
    {
      "cell_type": "code",
      "execution_count": null,
      "metadata": {
        "id": "l_qq78CKV7Wd",
        "colab": {
          "base_uri": "https://localhost:8080/"
        },
        "outputId": "b0bac361-4915-431d-c1b7-59ef3b9b5618"
      },
      "outputs": [
        {
          "output_type": "stream",
          "name": "stdout",
          "text": [
            "ingresar la cantidad proyectada de ventas totales: 2323323\n",
            "los beneficios son 534364.29\n"
          ]
        }
      ],
      "source": [
        " Ventas = float(input(\"ingresar la cantidad proyectada de ventas totales: \"))\n",
        " Beneficios = 0.23 * Ventas\n",
        " print(\"los beneficios son\", Beneficios)"
      ]
    },
    {
      "cell_type": "markdown",
      "source": [
        "Pseudocodigo\n",
        "\n",
        "Start\n",
        "  \n",
        "  Declare Ventas, Beneficios as Float\n",
        "\n",
        "  Display \"Ingresar la cantidad proyectada de ventas totales: \"\n",
        "  Set Ventas = Input()\n",
        "\n",
        "  Set Beneficios = 0.23 * Ventas\n",
        "\n",
        "  Display \"Los beneficios son\", Beneficios\n",
        "\n",
        "End\n"
      ],
      "metadata": {
        "id": "e-cy3EdHqxYb"
      }
    }
  ]
}