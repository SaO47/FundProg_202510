{
  "nbformat": 4,
  "nbformat_minor": 0,
  "metadata": {
    "colab": {
      "provenance": [],
      "authorship_tag": "ABX9TyMTtjf1WkSRJhtBJyIejaqS",
      "include_colab_link": true
    },
    "kernelspec": {
      "name": "python3",
      "display_name": "Python 3"
    },
    "language_info": {
      "name": "python"
    }
  },
  "cells": [
    {
      "cell_type": "markdown",
      "metadata": {
        "id": "view-in-github",
        "colab_type": "text"
      },
      "source": [
        "<a href=\"https://colab.research.google.com/github/SaO47/FundProg_202510/blob/main/Problema_7.ipynb\" target=\"_parent\"><img src=\"https://colab.research.google.com/assets/colab-badge.svg\" alt=\"Open In Colab\"/></a>"
      ]
    },
    {
      "cell_type": "code",
      "execution_count": null,
      "metadata": {
        "id": "KZOvkiOCSa51",
        "colab": {
          "base_uri": "https://localhost:8080/"
        },
        "outputId": "89a657b0-423f-4d34-c819-9ea3ceca1f6f"
      },
      "outputs": [
        {
          "output_type": "stream",
          "name": "stdout",
          "text": [
            "Ingresar millas recorridas: 22222\n",
            "Ingresar galones de gasolinas usados: 33333\n",
            "El promedio de millas por galon es:  0.6666666666666666\n"
          ]
        }
      ],
      "source": [
        "millasrecor = float(input(\"Ingresar millas recorridas: \"))\n",
        "galonesgaso = float(input(\"Ingresar galones de gasolinas usados: \"))\n",
        "MRP = millasrecor / galonesgaso\n",
        "print(\"El promedio de millas por galon es: \", MRP)"
      ]
    },
    {
      "cell_type": "markdown",
      "source": [
        "Pseudocodigo\n",
        "\n",
        "Start\n",
        "    \n",
        "  Declare millasrecor, galonesgaso, MRP as Float\n",
        "\n",
        "  Display \"Ingresar millas recorridas: \"\n",
        "  \n",
        "  Set millasrecor = Input()\n",
        "\n",
        "  Display \"Ingresar galones de gasolinas usados: \"\n",
        "  \n",
        "  Set galonesgaso = Input()\n",
        "\n",
        "  Set MRP = millasrecor / galonesgaso\n",
        "\n",
        "  Display \"El promedio de millas por galon es: \", MRP\n",
        "  \n",
        "End"
      ],
      "metadata": {
        "id": "M8x0YOidszXP"
      }
    }
  ]
}