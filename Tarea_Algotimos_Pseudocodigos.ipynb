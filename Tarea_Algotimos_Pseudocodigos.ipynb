{
  "nbformat": 4,
  "nbformat_minor": 0,
  "metadata": {
    "colab": {
      "provenance": [],
      "authorship_tag": "ABX9TyM9gsYGzrSLskcc3RPr0oge",
      "include_colab_link": true
    },
    "kernelspec": {
      "name": "python3",
      "display_name": "Python 3"
    },
    "language_info": {
      "name": "python"
    }
  },
  "cells": [
    {
      "cell_type": "markdown",
      "metadata": {
        "id": "view-in-github",
        "colab_type": "text"
      },
      "source": [
        "<a href=\"https://colab.research.google.com/github/SaO47/FundProg_202510/blob/main/Tarea_Algotimos_Pseudocodigos.ipynb\" target=\"_parent\"><img src=\"https://colab.research.google.com/assets/colab-badge.svg\" alt=\"Open In Colab\"/></a>"
      ]
    },
    {
      "cell_type": "code",
      "execution_count": null,
      "metadata": {
        "id": "IVKMtaDV8Ey6"
      },
      "outputs": [],
      "source": [
        "#Problema 1\n",
        "r1 = float(input(\"Ingrese la primera resistencia (ohmios): \"))\n",
        "r2 = float(input(\"Ingrese la segunda resistencia (ohmios): \"))\n",
        "r3 = float(input(\"Ingrese la tercera resistencia (ohmios): \"))\n",
        "\n",
        "req = 1 / (1/r1 + 1/r2 + 1/r3)\n",
        "\n",
        "print(\"Resistencia equivalente:\", req, \"ohmios\")\n",
        "\n"
      ]
    },
    {
      "cell_type": "markdown",
      "source": [
        "Pseudocodigo\n",
        "\n",
        "Start\n",
        "    \n",
        "Declare r1, r2, r3, req as Float\n",
        "\n",
        "Display \"Ingrese la primera resistencia (ohmios): \"\n",
        "\n",
        "Set r1 = Input()\n",
        "\n",
        "Display \"Ingrese la segunda resistencia (ohmios): \"\n",
        "\n",
        "Set r2 = Input()\n",
        "\n",
        "Display \"Ingrese la tercera resistencia (ohmios): \"\n",
        "\n",
        "Set r3 = Input()\n",
        "\n",
        "Set req = 1 / (1/r1 + 1/r2 + 1/r3)\n",
        "\n",
        "Display \"Resistencia equivalente:\", req, \"ohmios\"\n",
        "\n",
        "End\n"
      ],
      "metadata": {
        "id": "RAmQYYEG-Ocd"
      }
    },
    {
      "cell_type": "code",
      "source": [
        "#Problema 2\n",
        "R = float(input(\"Ingrese la resistencia (ohmios): \"))\n",
        "I = float(input(\"Ingrese la corriente (amperios): \"))\n",
        "P = I**2 * R\n",
        "print(\"La potencia disipada es:\", P, \"vatios\")\n"
      ],
      "metadata": {
        "id": "asx4Ug0q-OsD"
      },
      "execution_count": null,
      "outputs": []
    },
    {
      "cell_type": "markdown",
      "source": [
        "Pseudocodigo\n",
        "\n",
        "Start\n",
        "\n",
        "Declare R, I, P as Float\n",
        "\n",
        "Display \"Ingrese la resistencia (ohmios): \"\n",
        "\n",
        "Set R = Input()\n",
        "\n",
        "Display \"Ingrese la corriente (amperios): \"\n",
        "\n",
        "Set I = Input()\n",
        "\n",
        "Set P = I ** 2 * R\n",
        "\n",
        "Display \"La potencia disipada es:\", P, \"vatios\"\n",
        "\n",
        "End\n"
      ],
      "metadata": {
        "id": "82C3Wb3m-fF5"
      }
    },
    {
      "cell_type": "code",
      "source": [
        "#Problema 3\n",
        "V = float(input(\"Ingrese la tensión (V): \"))\n",
        "R = float(input(\"Ingrese la resistencia (ohmios): \"))\n",
        "I = V / R\n",
        "print(\"La corriente es:\", I, \"amperios\")\n"
      ],
      "metadata": {
        "id": "mffNXEe1-fWA"
      },
      "execution_count": null,
      "outputs": []
    },
    {
      "cell_type": "markdown",
      "source": [
        "Pseudocodigo\n",
        "\n",
        "Start\n",
        "\n",
        "Declare V, R, I as Float\n",
        "\n",
        "Display \"Ingrese la tensión (V): \"\n",
        "\n",
        "Set V = Input()\n",
        "\n",
        "Display \"Ingrese la resistencia (ohmios): \"\n",
        "\n",
        "Set R = Input()\n",
        "\n",
        "Set I = V / R\n",
        "\n",
        "Display \"La corriente es:\", I, \"amperios\"\n",
        "\n",
        "End\n"
      ],
      "metadata": {
        "id": "YO0ojd4q-iEa"
      }
    },
    {
      "cell_type": "code",
      "source": [
        "#Problema 4\n",
        "R = float(input(\"Ingrese la resistencia (ohmios): \"))\n",
        "C = float(input(\"Ingrese la capacitancia (faradios): \"))\n",
        "tau = R * C\n",
        "print(\"La constante de tiempo es:\", tau, \"segundos\")\n"
      ],
      "metadata": {
        "id": "mU4yPfRs-iRg"
      },
      "execution_count": null,
      "outputs": []
    },
    {
      "cell_type": "markdown",
      "source": [
        "Pseudocodigo\n",
        "\n",
        "Start\n",
        "\n",
        "Declare R, C, tau as Float\n",
        "\n",
        "Display \"Ingrese la resistencia (ohmios): \"\n",
        "\n",
        "Set R = Input()\n",
        "\n",
        "Display \"Ingrese la capacitancia (faradios): \"\n",
        "\n",
        "Set C = Input()\n",
        "\n",
        "Set tau = R * C\n",
        "\n",
        "Display \"La constante de tiempo es:\", tau, \"segundos\"\n",
        "\n",
        "End\n"
      ],
      "metadata": {
        "id": "UH8QGiBV-k4U"
      }
    },
    {
      "cell_type": "code",
      "source": [
        "#Problema 5\n",
        "e1 = float(input(\"Ingrese la primera potencia (kWh): \"))\n",
        "e2 = float(input(\"Ingrese la segunda potencia (kWh): \"))\n",
        "e3 = float(input(\"Ingrese la tercera potencia (kWh): \"))\n",
        "e4 = float(input(\"Ingrese la cuarta potencia (kWh): \"))\n",
        "\n",
        "energia_total = e1 + e2 + e3 + e4\n",
        "\n",
        "print(\"Energía total consumida:\", energia_total, \"kWh\")\n",
        "\n"
      ],
      "metadata": {
        "id": "1szAiJGI-k_l"
      },
      "execution_count": null,
      "outputs": []
    },
    {
      "cell_type": "markdown",
      "source": [
        "Pseudocodigo\n",
        "\n",
        "Start\n",
        "    \n",
        "Declare e1, e2, e3, e4, energia_total as Float\n",
        "\n",
        "Display \"Ingrese la primera potencia (kWh): \"\n",
        "\n",
        "Set e1 = Input()\n",
        "\n",
        "Display \"Ingrese la segunda potencia (kWh): \"\n",
        "\n",
        "Set e2 = Input()\n",
        "\n",
        "Display \"Ingrese la tercera potencia (kWh): \"\n",
        "\n",
        "Set e3 = Input()\n",
        "\n",
        "Display \"Ingrese la cuarta potencia (kWh): \"\n",
        "\n",
        "Set e4 = Input()\n",
        "\n",
        "Set energia_total = e1 + e2 + e3 + e4\n",
        "\n",
        "Display \"Energía total consumida:\", energia_total, \"kWh\"\n",
        "\n",
        "End\n",
        "\n",
        "\n"
      ],
      "metadata": {
        "id": "BOUuU2dmBKUV"
      }
    },
    {
      "cell_type": "markdown",
      "source": [
        "Samuel Andres Oyola Giraldo ID:000578808 samuel.oyola@upb.edu.co"
      ],
      "metadata": {
        "id": "aZQZqHnzwyEg"
      }
    }
  ]
}