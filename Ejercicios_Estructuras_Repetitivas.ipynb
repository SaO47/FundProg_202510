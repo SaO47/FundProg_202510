{
  "nbformat": 4,
  "nbformat_minor": 0,
  "metadata": {
    "colab": {
      "provenance": [],
      "authorship_tag": "ABX9TyPebcI6xaNSZwtAydhCNcUY",
      "include_colab_link": true
    },
    "kernelspec": {
      "name": "python3",
      "display_name": "Python 3"
    },
    "language_info": {
      "name": "python"
    }
  },
  "cells": [
    {
      "cell_type": "markdown",
      "metadata": {
        "id": "view-in-github",
        "colab_type": "text"
      },
      "source": [
        "<a href=\"https://colab.research.google.com/github/SaO47/FundProg_202510/blob/main/Ejercicios_Estructuras_Repetitivas.ipynb\" target=\"_parent\"><img src=\"https://colab.research.google.com/assets/colab-badge.svg\" alt=\"Open In Colab\"/></a>"
      ]
    },
    {
      "cell_type": "code",
      "execution_count": null,
      "metadata": {
        "id": "lF-J0sRvSnbD"
      },
      "outputs": [],
      "source": [
        "#Ejercicio 1\n",
        "lista1 = [10, 20, 30, 40]\n",
        "lista2 = [15, 25, 35, 45]\n",
        "\n",
        "suma1 = sum(lista1)\n",
        "suma2 = sum(lista2)\n",
        "\n",
        "if suma1 > suma2:\n",
        "    print(\"La primera lista tiene la suma más grande.\")\n",
        "elif suma1 < suma2:\n",
        "    print(\"La segunda lista tiene la suma más grande.\")\n",
        "else:\n",
        "    print(\"Ambas listas tienen la misma suma.\")\n"
      ]
    },
    {
      "cell_type": "markdown",
      "source": [
        "# Programa para comparar la suma de dos listas\n",
        "\n",
        "Start  \n",
        "\n",
        "Declare List lista1 = [10, 20, 30, 40]\n",
        "\n",
        "Declare List lista2 = [15, 25, 35, 45]\n",
        "\n",
        "Declare Integer suma1, suma2  \n",
        "\n",
        "Set suma1 = Sum(lista1)  \n",
        "\n",
        "Set suma2 = Sum(lista2)  \n",
        "\n",
        "If suma1 > suma2 Then  \n",
        "\n",
        "Display \"La primera lista tiene la suma más grande.\"  \n",
        "\n",
        "Else If suma1 < suma2 Then  \n",
        "\n",
        "Display \"La segunda lista tiene la suma más grande.\"\n",
        "\n",
        "Else  \n",
        "\n",
        "Display \"Ambas listas tienen la misma suma.\"\n",
        "\n",
        "End If  \n",
        "\n",
        "End  \n"
      ],
      "metadata": {
        "id": "yuxHBIKeWn-0"
      }
    },
    {
      "cell_type": "code",
      "source": [
        "#Ejercicio 2\n",
        "lista = [1, 2, 3, 4]\n",
        "\n",
        "valor_objetivo = int(input(\"Ingrese un valor objetivo: \"))\n",
        "\n",
        "suma_acumulada = 0\n",
        "contador = 0\n",
        "\n",
        "for num in lista:\n",
        "    suma_acumulada += num\n",
        "    contador += 1\n",
        "    if suma_acumulada >= valor_objetivo:\n",
        "        break\n",
        "\n",
        "if suma_acumulada >= valor_objetivo:\n",
        "    print(\"Se necesitan\", contador, \"números para alcanzar o superar\", valor_objetivo)\n",
        "else:\n",
        "    print(\"La suma de todos los números en la lista no alcanza el valor objetivo.\")\n"
      ],
      "metadata": {
        "colab": {
          "base_uri": "https://localhost:8080/"
        },
        "id": "PnSflhcgVoEc",
        "outputId": "58ede974-d780-413e-d284-bb59e354e612"
      },
      "execution_count": 6,
      "outputs": [
        {
          "output_type": "stream",
          "name": "stdout",
          "text": [
            "Ingrese un valor objetivo: 23\n",
            "La suma de todos los números en la lista no alcanza el valor objetivo.\n"
          ]
        }
      ]
    },
    {
      "cell_type": "markdown",
      "source": [
        "# Programa para determinar cuántos números de una lista se necesitan para alcanzar un valor objetivo\n",
        "\n",
        "Start  \n",
        "\n",
        "Declare List lista = [1, 2, 3, 4]\n",
        "\n",
        "Declare Integer valor_objetivo, suma_acumulada, contador  \n",
        "   \n",
        "Display \"Ingrese un valor objetivo: \"  \n",
        "\n",
        "Input valor_objetivo  \n",
        "\n",
        "Set suma_acumulada = 0  \n",
        "\n",
        "Set contador = 0  \n",
        "\n",
        "For Each num in lista Do\n",
        "\n",
        "Set suma_acumulada = suma_acumulada + num  \n",
        "\n",
        "Set contador = contador + 1  \n",
        "\n",
        "If suma_acumulada >= valor_objetivo Then  \n",
        "\n",
        "Break  \n",
        "\n",
        "End If  \n",
        "\n",
        "End For  \n",
        "\n",
        "If suma_acumulada >= valor_objetivo Then  \n",
        "\n",
        "Display \"Se necesitan \", contador, \" números para alcanzar o superar \"\n",
        "\n",
        "valor_objetivo  \n",
        "\n",
        "Else  \n",
        "\n",
        "Display \"La suma de todos los números en la lista no alcanza el valor objetivo.\"  \n",
        "\n",
        "End If  \n",
        "\n",
        "End  \n"
      ],
      "metadata": {
        "id": "PXhEuIsXXKuJ"
      }
    },
    {
      "cell_type": "code",
      "source": [
        "#Ejercicio 3\n",
        "max_lista1 = max(lista1)\n",
        "max_lista2 = max(lista2)\n",
        "\n",
        "definir_lista = \"primera\" if max_lista1 > max_lista2 else \"segunda\" if max_lista2 > max_lista1 else \"ambas\"\n",
        "\n",
        "if definir_lista == \"ambas\":\n",
        "    print(\"Ambas listas tienen el mismo valor máximo.\")\n",
        "else:\n",
        "    print(\"La \" + definir_lista + \" lista contiene el valor más grande.\")\n"
      ],
      "metadata": {
        "colab": {
          "base_uri": "https://localhost:8080/"
        },
        "id": "bXEm-IDmT9Ry",
        "outputId": "e854a098-8267-43ca-c807-980f9082d101"
      },
      "execution_count": 7,
      "outputs": [
        {
          "output_type": "stream",
          "name": "stdout",
          "text": [
            "La segunda lista contiene el valor más grande.\n"
          ]
        }
      ]
    },
    {
      "cell_type": "markdown",
      "source": [
        "# Programa para determinar cuál lista tiene el valor máximo más grande\n",
        "\n",
        "Start  \n",
        "\n",
        "Declare List lista1 = [...]  \n",
        "\n",
        "Declare List lista2 = [...]   \n",
        "\n",
        "Declare Integer max_lista1, max_lista2  \n",
        "\n",
        "Declare String definir_lista  \n",
        "\n",
        "Set max_lista1 = Max(lista1)  \n",
        "\n",
        "Set max_lista2 = Max(lista2)  \n",
        "\n",
        "If max_lista1 > max_lista2 Then\n",
        "\n",
        "Set definir_lista = \"primera\"\n",
        "\n",
        "Else If max_lista2 > max_lista1 Then\n",
        "\n",
        "Set definir_lista = \"segunda\"  \n",
        "\n",
        "Else  \n",
        "\n",
        "Set definir_lista = \"ambas\"  \n",
        "\n",
        "End If  \n",
        "\n",
        "If definir_lista == \"ambas\" Then\n",
        "\n",
        "Display \"Ambas listas tienen el mismo valor máximo.\"  \n",
        "\n",
        "Else  \n",
        "\n",
        "Display \"La \", definir_lista, \" lista contiene el valor más grande.\"  \n",
        "\n",
        "End If  \n",
        "\n",
        "End  \n"
      ],
      "metadata": {
        "id": "b2IW8EY9XXQr"
      }
    },
    {
      "cell_type": "code",
      "source": [
        "#Ejercicio 4\n",
        "lista3 = [10, 20, 30, 40]\n",
        "lista4 = [15, 20, 40, 45]\n",
        "\n",
        "coincidencias = []\n",
        "for i, num1 in enumerate(lista3):\n",
        "    for j, num2 in enumerate(lista4):\n",
        "        if num1 == num2:\n",
        "            coincidencias.append((i, j))\n",
        "\n",
        "if coincidencias:\n",
        "    print(\"Las coincidencias se encuentran en las siguientes posiciones:\")\n",
        "    for i, j in coincidencias:\n",
        "        print(\"Lista 1 posición\", i, \"- Lista 2 posición\", j)\n",
        "else:\n",
        "    print(\"No hay coincidencias entre las dos listas.\")\n"
      ],
      "metadata": {
        "colab": {
          "base_uri": "https://localhost:8080/"
        },
        "id": "1ST-GWcyVN0D",
        "outputId": "89cf0199-292c-4691-9e42-36abf27dba15"
      },
      "execution_count": 3,
      "outputs": [
        {
          "output_type": "stream",
          "name": "stdout",
          "text": [
            "Las coincidencias se encuentran en las siguientes posiciones:\n",
            "Lista 1 posición 1 - Lista 2 posición 1\n",
            "Lista 1 posición 3 - Lista 2 posición 2\n"
          ]
        }
      ]
    },
    {
      "cell_type": "markdown",
      "source": [
        "# Programa para encontrar coincidencias entre dos listas y mostrar sus posiciones\n",
        "\n",
        "Start  \n",
        "\n",
        "  Declare List lista3 = [10, 20, 30, 40]  \n",
        "\n",
        "  Declare List lista4 = [15, 20, 40, 45]  \n",
        "\n",
        "  Declare List coincidencias = []  \n",
        "\n",
        "  For i From 0 To Length(lista3) - 1 Do  \n",
        "\n",
        "  For j From 0 To Length(lista4) - 1 Do\n",
        "\n",
        "  If lista3[i] == lista4[j] Then  \n",
        "\n",
        "  Append (i, j) To coincidencias\n",
        "\n",
        "  End If  \n",
        "\n",
        "  End For  \n",
        "\n",
        "End For  \n",
        "\n",
        "If Length(coincidencias) > 0 Then  \n",
        "\n",
        "Display \"Las coincidencias se encuentran en las siguientes posiciones:\"  \n",
        "\n",
        "For Each (i, j) In coincidencias Do  \n",
        "\n",
        "Display \"Lista 1 posición \", i, \" - Lista 2 posición \", j\n",
        "\n",
        "End For  \n",
        "\n",
        "Else  \n",
        "\n",
        "Display \"No hay coincidencias entre las dos listas.\"\n",
        "\n",
        "End If  \n",
        "\n",
        "End  \n"
      ],
      "metadata": {
        "id": "43DGfU7bXjJ3"
      }
    },
    {
      "cell_type": "markdown",
      "source": [
        "Samuel Andres Oyola Giraldo\n",
        "Id:000578808\n",
        "samuel.oyola@upb.edu.co"
      ],
      "metadata": {
        "id": "tl0jKTEQZQzJ"
      }
    }
  ]
}