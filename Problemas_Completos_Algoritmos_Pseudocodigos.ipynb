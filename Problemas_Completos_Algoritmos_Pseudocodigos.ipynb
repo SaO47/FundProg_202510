{
  "nbformat": 4,
  "nbformat_minor": 0,
  "metadata": {
    "colab": {
      "provenance": [],
      "authorship_tag": "ABX9TyMy7SSST0oElNciPclagAb+",
      "include_colab_link": true
    },
    "kernelspec": {
      "name": "python3",
      "display_name": "Python 3"
    },
    "language_info": {
      "name": "python"
    }
  },
  "cells": [
    {
      "cell_type": "markdown",
      "metadata": {
        "id": "view-in-github",
        "colab_type": "text"
      },
      "source": [
        "<a href=\"https://colab.research.google.com/github/SaO47/FundProg_202510/blob/main/Problemas_Completos_Algoritmos_Pseudocodigos.ipynb\" target=\"_parent\"><img src=\"https://colab.research.google.com/assets/colab-badge.svg\" alt=\"Open In Colab\"/></a>"
      ]
    },
    {
      "cell_type": "markdown",
      "source": [
        "Lo siento por enviar eso como no era y full la buena pa usted profe xq se q lo dice para q mejore y no subi eso de forma mala si no como habia entendido.\n",
        "Disculpe los incomvenientes y aqui esta de nuevo el trabajo en un solo colab\n",
        "Pov:La imagen esa la tenia pa q me dejara crear la carpeta y se me olvido quitarlo"
      ],
      "metadata": {
        "id": "uwtvdwgVvrm5"
      }
    },
    {
      "cell_type": "code",
      "execution_count": null,
      "metadata": {
        "collapsed": true,
        "id": "k9DwOW1MvUg_"
      },
      "outputs": [],
      "source": [
        "#Problema 1\n",
        "nombre = input(\"Ingresa tu nombre: \")\n",
        "direccion = input(\"Ingresa tu dirección: \")\n",
        "ciudad = input(\"Ingresa tu ciudad: \")\n",
        "estado = input(\"Ingresa tu estado: \")\n",
        "codigo_postal = input(\"Ingresa tu código postal: \")\n",
        "telefono = input(\"Ingresa tu número de teléfono: \")\n",
        "especializacion = input(\"Ingresa tu especialización universitaria: \")\n",
        "\n",
        "print(\"=== Información Personal ===\")\n",
        "print(nombre)\n",
        "print(direccion)\n",
        "print(ciudad)\n",
        "print(estado)\n",
        "print(codigo_postal)\n",
        "print(telefono)\n",
        "print(especializacion)"
      ]
    },
    {
      "cell_type": "markdown",
      "source": [
        "Pseudocodigo\n",
        "\n",
        "Start\n",
        "\n",
        "Declare nombre, direccion, ciudad, estado, codigo_postal, telefono, especializacion as String\n",
        "\n",
        "Display \"Ingresa tu nombre: \"\n",
        "\n",
        "Set nombre = Input()\n",
        "\n",
        "Display \"Ingresa tu dirección: \"\n",
        "\n",
        "Set direccion = Input()\n",
        "\n",
        "Display \"Ingresa tu ciudad: \"\n",
        "\n",
        "Set ciudad = Input()\n",
        "\n",
        "Display \"Ingresa tu estado: \"\n",
        "\n",
        "Set estado = Input()\n",
        "\n",
        "Display \"Ingresa tu código postal: \"\n",
        "\n",
        "Set codigo_postal = Input()\n",
        "\n",
        "Display \"Ingresa tu número de teléfono: \"\n",
        "\n",
        "Set telefono = Input()\n",
        "\n",
        "Display \"Ingresa tu especialización universitaria: \"\n",
        "\n",
        "Set especializacion = Input()\n",
        "\n",
        "Display \"=== Información Personal ===\"\n",
        "\n",
        "Display nombre\n",
        "\n",
        "Display direccion\n",
        "\n",
        "Display ciudad\n",
        "\n",
        "Display estado\n",
        "\n",
        "Display codigo_postal\n",
        "\n",
        "Display telefono\n",
        "\n",
        "Display especializacion\n",
        "\n",
        "End\n",
        "\n"
      ],
      "metadata": {
        "id": "4CPu2JjMvll7"
      }
    },
    {
      "cell_type": "code",
      "source": [
        " #Problema 2\n",
        " Ventas = float(input(\"ingresar la cantidad proyectada de ventas totales: \"))\n",
        " Beneficios = 0.23 * Ventas\n",
        " print(\"los beneficios son\", Beneficios)"
      ],
      "metadata": {
        "id": "DlSNW94lvkR5"
      },
      "execution_count": null,
      "outputs": []
    },
    {
      "cell_type": "markdown",
      "source": [
        "Pseudocodigo\n",
        "\n",
        "Start\n",
        "\n",
        "Declare Ventas, Beneficios as Float\n",
        "\n",
        "Display \"Ingresar la cantidad proyectada de ventas totales: \" Set Ventas = Input()\n",
        "\n",
        "Set Beneficios = 0.23 * Ventas\n",
        "\n",
        "Display \"Los beneficios son\", Beneficios\n",
        "\n",
        "End"
      ],
      "metadata": {
        "id": "_WXZCO2bxjlu"
      }
    },
    {
      "cell_type": "code",
      "source": [
        "#Problema 3\n",
        "pies = float(input(\"Cuantos pies cuadrados tiene el terreno: \"))\n",
        "Acres = pies/43560\n",
        "print(\"El terreno tiene\",Acres,\"acres\")\n"
      ],
      "metadata": {
        "id": "elZj6u3kxn1A"
      },
      "execution_count": null,
      "outputs": []
    },
    {
      "cell_type": "markdown",
      "source": [
        "Pseudocodigo\n",
        "\n",
        "Start\n",
        "\n",
        "Declare pies, Acres as Float\n",
        "\n",
        "Display \"Cuantos pies cuadrados tiene el terreno: \"\n",
        "\n",
        "Set pies = Input()\n",
        "\n",
        "Set Acres = pies / 43560\n",
        "\n",
        "Display \"El terreno tiene\", Acres, \"acres\"\n",
        "\n",
        "End"
      ],
      "metadata": {
        "id": "WZJUiv8-xw06"
      }
    },
    {
      "cell_type": "code",
      "source": [
        "#Problema 4\n",
        "Art1 = float(input(\"Valor del articulo 1: \"))\n",
        "Art2 = float(input(\"Valor del articulo 2: \"))\n",
        "Art3 = float(input(\"Valor del articulo 3: \"))\n",
        "Art4 = float(input(\"Valor del articulo 4: \"))\n",
        "Art5 = float(input(\"Valor del articulo 5: \"))\n",
        "VaTo = Art1 + Art2 + Art3 + Art4 + Art5\n",
        "ImTo = 0.06\n",
        "Impu = VaTo * ImTo\n",
        "Total = VaTo + Impu\n",
        "\n",
        "print(\"El valor total de los articulos es: \", VaTo)\n",
        "print(\"El valor total de los impuestos es: \", Impu)\n",
        "print(\"El valor total de la compra es: \", Total)\n"
      ],
      "metadata": {
        "id": "vMrvDmzNx0Ah"
      },
      "execution_count": null,
      "outputs": []
    },
    {
      "cell_type": "markdown",
      "source": [
        "Pseudocodigo\n",
        "\n",
        "Start\n",
        "\n",
        "Declare Art1, Art2, Art3, Art4, Art5, VaTo, ImTo, Impu, Total as Float\n",
        "\n",
        "Display \"Valor del articulo 1: \"\n",
        "\n",
        "Set Art1 = Input()\n",
        "\n",
        "Display \"Valor del articulo 2: \"\n",
        "\n",
        "Set Art2 = Input()\n",
        "\n",
        "Display \"Valor del articulo 3: \"\n",
        "\n",
        "Set Art3 = Input()\n",
        "\n",
        "Display \"Valor del articulo 4: \"\n",
        "\n",
        "Set Art4 = Input()\n",
        "\n",
        "Display \"Valor del articulo 5: \"\n",
        "\n",
        "Set Art5 = Input()\n",
        "\n",
        "Set VaTo = Art1 + Art2 + Art3 + Art4 + Art5\n",
        "\n",
        "Set ImTo = 0.06\n",
        "\n",
        "Set Impu = VaTo * ImTo\n",
        "\n",
        "Set Total = VaTo + Impu\n",
        "\n",
        "Display \"El valor total de los articulos es: \", VaTo\n",
        "\n",
        "Display \"El valor total de los impuestos es: \", Impu\n",
        "\n",
        "Display \"El valor total de la compra es: \", Total\n",
        "\n",
        "End"
      ],
      "metadata": {
        "id": "RzkDlRJCy8BJ"
      }
    },
    {
      "cell_type": "code",
      "source": [
        "#Problema 5\n",
        "velocidad = 60\n",
        "\n",
        "tiempo1 = 5\n",
        "tiempo2 = 8\n",
        "tiempo3 = 12\n",
        "\n",
        "distancia1 = velocidad * tiempo1\n",
        "distancia2 = velocidad * tiempo2\n",
        "distancia3 = velocidad * tiempo3\n",
        "\n",
        "print(\"La distancia recorrida en 5 horas es:\", distancia1, \"millas\")\n",
        "print(\"La distancia recorrida en 8 horas es:\", distancia2, \"millas\")\n",
        "print(\"La distancia recorrida en 12 horas es:\", distancia3, \"millas\")"
      ],
      "metadata": {
        "id": "IGGaNI4lzAkr"
      },
      "execution_count": null,
      "outputs": []
    },
    {
      "cell_type": "markdown",
      "source": [
        "Pseudocodigo\n",
        "\n",
        "Start\n",
        "\n",
        "Declare velocidad, tiempo1, tiempo2, tiempo3, distancia1, distancia2, distancia3 as Float\n",
        "\n",
        "Set velocidad = 60\n",
        "\n",
        "Set tiempo1 = 5\n",
        "\n",
        "Set tiempo2 = 8\n",
        "\n",
        "Set tiempo3 = 12\n",
        "\n",
        "Set distancia1 = velocidad * tiempo1\n",
        "\n",
        "Set distancia2 = velocidad * tiempo2\n",
        "\n",
        "Set distancia3 = velocidad * tiempo3\n",
        "\n",
        "Display \"La distancia recorrida en 5 horas es:\", distancia1, \"millas\"\n",
        "\n",
        "Display \"La distancia recorrida en 8 horas es:\", distancia2, \"millas\"\n",
        "\n",
        "Display \"La distancia recorrida en 12 horas es:\", distancia3, \"millas\"\n",
        "\n",
        "End"
      ],
      "metadata": {
        "id": "RPRy8B-RzJ4g"
      }
    },
    {
      "cell_type": "code",
      "source": [
        "#Problema 6\n",
        "cancom = float(input(\"Ingrese la cantidad de la compra: \"))\n",
        "\n",
        "impest = 0.04\n",
        "impucond = 0.02\n",
        "montoest = cancom * impest\n",
        "montocon = cancom * impucond\n",
        "imputotal = montoest + montocon\n",
        "toventa = cancom + imputotal\n",
        "\n",
        "print(\"Cantidad de la compra:\", cancom)\n",
        "print(\"Impuesto estatal:\", montoest)\n",
        "print(\"Impuesto del condado:\", montocon)\n",
        "print(\"Impuesto total:\", imputotal)\n",
        "print(\"Total de la venta:\", toventa)"
      ],
      "metadata": {
        "id": "MODZ1HRlzOI5"
      },
      "execution_count": null,
      "outputs": []
    },
    {
      "cell_type": "markdown",
      "source": [
        "Pseudocodigo\n",
        "\n",
        "Start\n",
        "\n",
        "Declare cancom, impest, impucond, montoest, montocon, imputotal, toventa as Float\n",
        "\n",
        "Display \"Ingrese la cantidad de la compra: \"\n",
        "\n",
        "Set cancom = Input()\n",
        "\n",
        "Set impest = 0.04\n",
        "\n",
        "Set impucond = 0.02\n",
        "\n",
        "Set montoest = cancom * impest\n",
        "\n",
        "Set montocon = cancom * impucond\n",
        "\n",
        "Set imputotal = montoest + montocon\n",
        "\n",
        "Set toventa = cancom + imputotal\n",
        "\n",
        "Display \"Cantidad de la compra:\", cancom\n",
        "\n",
        "Display \"Impuesto estatal:\", montoest\n",
        "\n",
        "Display \"Impuesto del condado:\", montocon\n",
        "\n",
        "Display \"Impuesto total:\", imputotal\n",
        "\n",
        "Display \"Total de la venta:\", toventa\n",
        "\n",
        "End"
      ],
      "metadata": {
        "id": "eWIuE8jHzUSa"
      }
    },
    {
      "cell_type": "code",
      "source": [
        "#Problema 7\n",
        "millasrecor = float(input(\"Ingresar millas recorridas: \"))\n",
        "galonesgaso = float(input(\"Ingresar galones de gasolinas usados: \"))\n",
        "MRP = millasrecor / galonesgaso\n",
        "print(\"El promedio de millas por galon es: \", MRP)"
      ],
      "metadata": {
        "id": "51fuZFjlzX6V"
      },
      "execution_count": null,
      "outputs": []
    },
    {
      "cell_type": "markdown",
      "source": [
        "Pseudocodigo\n",
        "\n",
        "Start\n",
        "\n",
        "Declare millasrecor, galonesgaso, MRP as Float\n",
        "\n",
        "Display \"Ingresar millas recorridas: \"\n",
        "\n",
        "Set millasrecor = Input()\n",
        "\n",
        "Display \"Ingresar galones de gasolinas usados: \"\n",
        "\n",
        "Set galonesgaso = Input()\n",
        "\n",
        "Set MRP = millasrecor / galonesgaso\n",
        "\n",
        "Display \"El promedio de millas por galon es: \", MRP\n",
        "\n",
        "End"
      ],
      "metadata": {
        "id": "TY0loabdzsFv"
      }
    },
    {
      "cell_type": "code",
      "source": [
        "#Problema 8\n",
        "costo = float(input(\"Ingrese el costo de la comida: \"))\n",
        "tip = 0.15\n",
        "tax = 0.07\n",
        "monto_tip = costo * tip\n",
        "monto_tax = costo * tax\n",
        "total = costo + monto_tip + monto_tax\n",
        "\n",
        "print(\"Costo de la comida:\", costo)\n",
        "print(\"Propina:\", monto_tip)\n",
        "print(\"Impuesto:\", monto_tax)\n",
        "print(\"Total a pagar:\", total)\n"
      ],
      "metadata": {
        "id": "UOHM7mBozsbl"
      },
      "execution_count": null,
      "outputs": []
    },
    {
      "cell_type": "markdown",
      "source": [
        "Pseudocodigo\n",
        "\n",
        "Start\n",
        "\n",
        "Declare costo, tip, tax, monto_tip, monto_tax, total as Float\n",
        "\n",
        "Display \"Ingrese el costo de la comida: \"\n",
        "\n",
        "Set costo = Input()\n",
        "\n",
        "Set tip = 0.15\n",
        "\n",
        "Set tax = 0.07\n",
        "\n",
        "Set monto_tip = costo * tip\n",
        "\n",
        "Set monto_tax = costo * tax\n",
        "\n",
        "Set total = costo + monto_tip + monto_tax\n",
        "\n",
        "Display \"Costo de la comida:\", costo\n",
        "\n",
        "Display \"Propina:\", monto_tip\n",
        "\n",
        "Display \"Impuesto:\", monto_tax\n",
        "\n",
        "Display \"Total a pagar:\", total\n",
        "\n",
        "End"
      ],
      "metadata": {
        "id": "O5a5B09Lzvq6"
      }
    },
    {
      "cell_type": "code",
      "source": [
        "#Problema 9\n",
        "Celsius = input(\"Temperatura en Grados Celcius: \")\n",
        "Fahrenheit = float(Celsius) * 1.8 + 32\n",
        "print(Fahrenheit, \"Grados Fahrenheit\")"
      ],
      "metadata": {
        "id": "WwzpoB2Pzv1-"
      },
      "execution_count": null,
      "outputs": []
    },
    {
      "cell_type": "markdown",
      "source": [
        "Pseudocodigo\n",
        "\n",
        "Start\n",
        "\n",
        "Declare Celsius, Fahrenheit as Float\n",
        "\n",
        "Display \"Temperatura en Grados Celsius: \"\n",
        "\n",
        "Set Celsius = Input()\n",
        "\n",
        "Set Fahrenheit = Celsius * 1.8 + 32\n",
        "\n",
        "Display Fahrenheit, \"Grados Fahrenheit\"\n",
        "\n",
        "End"
      ],
      "metadata": {
        "id": "sXixxJzwzw3Q"
      }
    },
    {
      "cell_type": "code",
      "source": [
        "#Problema 10\n",
        "acciones = 1000\n",
        "compra = 32.87\n",
        "venta = 33.92\n",
        "comision = 0.02\n",
        "\n",
        "montocom = acciones * compra\n",
        "comicom = montocom * comision\n",
        "montoven = acciones * venta\n",
        "comiven = montoven * comision\n",
        "\n",
        "ganancia = (montoven - comiven) - (montocom + comicom)\n",
        "\n",
        "print(\"Monto pagado por acciones:\", montocom)\n",
        "print(\"Comisión de compra:\", comicom)\n",
        "print(\"Monto obtenido por venta:\", montoven)\n",
        "print(\"Comisión de venta:\", comiven)\n",
        "print(\"Ganancias o Pérdidas:\", ganancia)\n"
      ],
      "metadata": {
        "id": "oib-ErNJzxAl"
      },
      "execution_count": null,
      "outputs": []
    },
    {
      "cell_type": "markdown",
      "source": [
        "Pseudocodigo\n",
        "\n",
        "Start\n",
        "\n",
        "Declare acciones, compra, venta, comision, montocom, comicom, montoven, comiven, ganancia as Float\n",
        "\n",
        "Set acciones = 1000\n",
        "\n",
        "Set compra = 32.87\n",
        "\n",
        "Set venta = 33.92\n",
        "\n",
        "Set comision = 0.02\n",
        "\n",
        "Set montocom = acciones * compra\n",
        "\n",
        "Set comicom = montocom * comision\n",
        "\n",
        "Set montoven = acciones * venta\n",
        "\n",
        "Set comiven = montoven * comision\n",
        "\n",
        "Set ganancia = (montoven - comiven) - (montocom + comicom)\n",
        "\n",
        "Display \"Monto pagado por acciones:\", montocom\n",
        "\n",
        "Display \"Comisión de compra:\", comicom\n",
        "\n",
        "Display \"Monto obtenido por venta:\", montoven\n",
        "\n",
        "Display \"Comisión de venta:\", comiven\n",
        "\n",
        "Display \"Ganancias o Pérdidas:\", ganancia\n",
        "\n",
        "End"
      ],
      "metadata": {
        "id": "2PINl0kDzznb"
      }
    },
    {
      "cell_type": "code",
      "source": [
        "#Problema 11\n",
        "compra = float(input(\"Ingrese el precio de compra de la vivienda: \"))\n",
        "remodel = float(input(\"Ingrese los costos de remodelación: \"))\n",
        "venta = float(input(\"Ingrese el precio de venta de la vivienda: \"))\n",
        "comision = float(input(\"Ingrese el porcentaje de comisión sobre la venta: \"))\n",
        "\n",
        "porcentaje = comision / 100\n",
        "montocomi = venta * porcentaje\n",
        "utilidad = venta - (compra + remodel + montocomi)\n",
        "\n",
        "print(\"Precio de compra:\", compra)\n",
        "print(\"Costos de remodelación:\", remodel)\n",
        "print(\"Precio de venta:\", venta)\n",
        "print(\"Comisión de venta:\", montocomi)\n",
        "print(\"Utilidad o Pérdida:\", utilidad)"
      ],
      "metadata": {
        "id": "LbcYIFnKzzwQ"
      },
      "execution_count": null,
      "outputs": []
    },
    {
      "cell_type": "markdown",
      "source": [
        "Pseudocodigo\n",
        "\n",
        "Start\n",
        "\n",
        "Declare compra, remodel, venta, comision, porcentaje, montocomi, utilidad as Float\n",
        "\n",
        "Display \"Ingrese el precio de compra de la vivienda: \"\n",
        "\n",
        "Set compra = Input()\n",
        "\n",
        "Display \"Ingrese los costos de remodelación: \"\n",
        "\n",
        "Set remodel = Input()\n",
        "\n",
        "Display \"Ingrese el precio de venta de la vivienda: \"\n",
        "\n",
        "Set venta = Input()\n",
        "\n",
        "Display \"Ingrese el porcentaje de comisión sobre la venta: \"\n",
        "\n",
        "Set comision = Input()\n",
        "\n",
        "Set porcentaje = comision / 100\n",
        "\n",
        "Set montocomi = venta * porcentaje\n",
        "\n",
        "Set utilidad = venta - (compra + remodel + montocomi)\n",
        "\n",
        "Display \"Precio de compra:\", compra\n",
        "\n",
        "Display \"Costos de remodelación:\", remodel\n",
        "\n",
        "Display \"Precio de venta:\", venta\n",
        "\n",
        "Display \"Comisión de venta:\", montocomi\n",
        "\n",
        "Display \"Utilidad o Pérdida:\", utilidad\n",
        "\n",
        "End"
      ],
      "metadata": {
        "id": "frxcdhmCz0pF"
      }
    },
    {
      "cell_type": "code",
      "source": [
        "#Problema 12\n",
        "radio = float(input(\"Ingresar radio del circulo: \"))\n",
        "pi = 3.14\n",
        "Area = pi * radio ** 2\n",
        "print(\"El area del circulo es\", Area)"
      ],
      "metadata": {
        "id": "wj-2kX40z1Nt"
      },
      "execution_count": null,
      "outputs": []
    },
    {
      "cell_type": "markdown",
      "source": [
        "Pseudocodigo\n",
        "\n",
        "Start\n",
        "\n",
        "Declare radio, pi, Area as Float\n",
        "\n",
        "Display \"Ingresar radio del circulo: \"\n",
        "\n",
        "Set radio = Input()\n",
        "\n",
        "Set pi = 3.14\n",
        "\n",
        "Set Area = pi * radio ** 2\n",
        "\n",
        "Display \"El area del circulo es\", Area\n",
        "\n",
        "End"
      ],
      "metadata": {
        "id": "TOgvIdnkz2S6"
      }
    },
    {
      "cell_type": "code",
      "source": [
        "#Problema 13\n",
        "totalmuf = int(input(\"Ingrese la cantidad de muffins a producir: \"))\n",
        "leche = 240 / 10\n",
        "harina = 280 / 10\n",
        "levadura = 30 / 10\n",
        "sal = 2.5 / 10\n",
        "azucar = 100 / 10\n",
        "huevos = 2 / 10\n",
        "manteq = 15 / 10\n",
        "\n",
        "cantleche = leche * totalmuf\n",
        "cantharina = harina * totalmuf\n",
        "cantlevadura = levadura * totalmuf\n",
        "cantsal = sal * totalmuf\n",
        "cantazucar = azucar * totalmuf\n",
        "canthuevos = huevos * totalmuf\n",
        "cantmanteq = manteq * totalmuf\n",
        "\n",
        "print(\"Cantidad de leche en ml:\", cantleche)\n",
        "print(\"Cantidad de harina en g:\", cantharina)\n",
        "print(\"Cantidad de levadura en g:\", cantlevadura)\n",
        "print(\"Cantidad de sal en g:\", cantsal)\n",
        "print(\"Cantidad de azúcar en g:\", cantazucar)\n",
        "print(\"Cantidad de huevos:\", canthuevos)\n",
        "print(\"Cantidad de mantequilla en g:\", cantmanteq)"
      ],
      "metadata": {
        "id": "J26FeLBLz2Zm"
      },
      "execution_count": null,
      "outputs": []
    },
    {
      "cell_type": "markdown",
      "source": [
        "Pseudocodigo\n",
        "\n",
        "Start\n",
        "\n",
        "Declare totalmuf as Integer\n",
        "\n",
        "Declare leche, harina, levadura, sal, azucar, huevos, manteq as Float\n",
        "\n",
        "Declare cantleche, cantharina, cantlevadura, cantsal, cantazucar, canthuevos, cantmanteq as Float\n",
        "\n",
        "Display \"Ingrese la cantidad de muffins a producir: \"\n",
        "\n",
        "Set totalmuf = Input()\n",
        "\n",
        "Set leche = 240 / 10\n",
        "\n",
        "Set harina = 280 / 10\n",
        "\n",
        "Set levadura = 30 / 10\n",
        "\n",
        "Set sal = 2.5 / 10\n",
        "\n",
        "Set azucar = 100 / 10\n",
        "\n",
        "Set huevos = 2 / 10\n",
        "\n",
        "Set manteq = 15 / 10\n",
        "\n",
        "Set cantleche = leche * totalmuf\n",
        "\n",
        "Set cantharina = harina * totalmuf\n",
        "\n",
        "Set cantlevadura = levadura * totalmuf\n",
        "\n",
        "Set cantsal = sal * totalmuf\n",
        "\n",
        "Set cantazucar = azucar * totalmuf\n",
        "\n",
        "Set canthuevos = huevos * totalmuf\n",
        "\n",
        "Set cantmanteq = manteq * totalmuf\n",
        "\n",
        "Display \"Cantidad de leche en ml:\", cantleche\n",
        "\n",
        "Display \"Cantidad de harina en g:\", cantharina\n",
        "\n",
        "Display \"Cantidad de levadura en g:\", cantlevadura\n",
        "\n",
        "Display \"Cantidad de sal en g:\", cantsal\n",
        "\n",
        "Display \"Cantidad de azúcar en g:\", cantazucar\n",
        "\n",
        "Display \"Cantidad de huevos:\", canthuevos\n",
        "\n",
        "Display \"Cantidad de mantequilla en g:\", cantmanteq\n",
        "\n",
        "End"
      ],
      "metadata": {
        "id": "ppZWDvZtz25r"
      }
    },
    {
      "cell_type": "code",
      "source": [
        "#Problema 14\n",
        "nota1 = float(input(\"Ingrese la primera nota: \"))\n",
        "peso1 = float(input(\"Ingrese el peso de la primera nota: \"))\n",
        "nota2 = float(input(\"Ingrese la segunda nota: \"))\n",
        "peso2 = float(input(\"Ingrese el peso de la segunda nota: \"))\n",
        "prompond = (nota1 * peso1 + nota2 * peso2) / (peso1 + peso2)\n",
        "print(\"El promedio ponderado es:\", prompond)"
      ],
      "metadata": {
        "id": "Nro4LIY2z3Bv"
      },
      "execution_count": null,
      "outputs": []
    },
    {
      "cell_type": "markdown",
      "source": [
        "pseudocodigo\n",
        "\n",
        "Start\n",
        "\n",
        "Declare nota1, peso1, nota2, peso2, prompond as Float\n",
        "\n",
        "Display \"Ingrese la primera nota: \"\n",
        "\n",
        "Set nota1 = Input()\n",
        "\n",
        "Display \"Ingrese el peso de la primera nota: \"\n",
        "\n",
        "Set peso1 = Input()\n",
        "\n",
        "Display \"Ingrese la segunda nota: \"\n",
        "\n",
        "Set nota2 = Input()\n",
        "\n",
        "Display \"Ingrese el peso de la segunda nota: \"\n",
        "\n",
        "Set peso2 = Input()\n",
        "\n",
        "Set prompond = (nota1 * peso1 + nota2 * peso2) / (peso1 + peso2)\n",
        "\n",
        "Display \"El promedio ponderado es:\", prompond\n",
        "\n",
        "End"
      ],
      "metadata": {
        "id": "JXOVF0mkz3wK"
      }
    },
    {
      "cell_type": "code",
      "source": [
        "#Problema 15\n",
        "salarbruto = float(input(\"Ingrese su salario bruto mensual: \"))\n",
        "impuesto = float(input(\"Ingrese el porcentaje de impuestos a aplicar: \"))\n",
        "\n",
        "porcentaje = impuesto / 100\n",
        "montimp = salarbruto * porcentaje\n",
        "salarneto = salarbruto - montimp\n",
        "print(\"Salario bruto:\", salarbruto)\n",
        "print(\"Monto de impuestos:\", montimp)\n",
        "print(\"Salario neto:\", salarneto)\n"
      ],
      "metadata": {
        "id": "SK75LKwdz4BP"
      },
      "execution_count": null,
      "outputs": []
    },
    {
      "cell_type": "markdown",
      "source": [
        "Pseudocodigo\n",
        "\n",
        "Start\n",
        "\n",
        "Declare salarbruto, impuesto, porcentaje, montimp, salarneto as Float\n",
        "\n",
        "Display \"Ingrese su salario bruto mensual: \"\n",
        "\n",
        "Set salarbruto = Input()\n",
        "\n",
        "Display \"Ingrese el porcentaje de impuestos a aplicar: \"\n",
        "\n",
        "Set impuesto = Input()\n",
        "\n",
        "Set porcentaje = impuesto / 100\n",
        "\n",
        "Set montimp = salarbruto * porcentaje\n",
        "\n",
        "Set salarneto = salarbruto - montimp\n",
        "\n",
        "Display \"Salario bruto:\", salarbruto\n",
        "\n",
        "Display \"Monto de impuestos:\", montimp\n",
        "\n",
        "Display \"Salario neto:\", salarneto\n",
        "\n",
        "End"
      ],
      "metadata": {
        "id": "BqZc6Qu8z4m8"
      }
    },
    {
      "cell_type": "code",
      "source": [
        "#Problema 16\n",
        "Peso = float(input(\"Ingresar su peso en Kg: \"))\n",
        "Altura = float(input(\"Ingresar su peso en Metros: \"))\n",
        "IMC = Peso / Altura ** 2\n",
        "print(\"Su Indice de masa corporal es:\", IMC)"
      ],
      "metadata": {
        "id": "gldDR5Xlz4v0"
      },
      "execution_count": null,
      "outputs": []
    },
    {
      "cell_type": "markdown",
      "source": [
        "Pseudocodigo\n",
        "\n",
        "Start\n",
        "\n",
        "Declare Peso, Altura, IMC as Float\n",
        "\n",
        "Display \"Ingresar su peso en Kg: \"\n",
        "\n",
        "Set Peso = Input()\n",
        "\n",
        "Display \"Ingresar su altura en Metros: \"\n",
        "\n",
        "Set Altura = Input()\n",
        "\n",
        "Set IMC = Peso / (Altura ** 2)\n",
        "\n",
        "Display \"Su Indice de masa corporal es:\", IMC\n",
        "\n",
        "End"
      ],
      "metadata": {
        "id": "H0dn2uSbz5LJ"
      }
    },
    {
      "cell_type": "code",
      "source": [
        "#Problema 17\n",
        "Celsius = input(\"Temperatura en Grados Celcius: \")\n",
        "Fahrenheit = float(Celsius) * 1.8 + 32\n",
        "print(Fahrenheit, \"Grados Fahrenheit\")"
      ],
      "metadata": {
        "id": "1fx5GhnJz5UE"
      },
      "execution_count": null,
      "outputs": []
    },
    {
      "cell_type": "markdown",
      "source": [
        "Pseudocodigo\n",
        "\n",
        "Start\n",
        "\n",
        "Declare Celsius, Fahrenheit as Float\n",
        "\n",
        "Display \"Temperatura en Grados Celsius: \"\n",
        "\n",
        "Set Celsius = Input()\n",
        "\n",
        "Set Fahrenheit = Celsius * 1.8 + 32\n",
        "\n",
        "Display Fahrenheit, \"Grados Fahrenheit\"\n",
        "\n",
        "End"
      ],
      "metadata": {
        "id": "ttTpEQiLz50D"
      }
    },
    {
      "cell_type": "code",
      "source": [
        "#Problema 18\n",
        "edad = input(\"Ingresar su edad: \")\n",
        "dias = int(edad) * 365\n",
        "print(\"Usted tiene\", dias, \"dias\")"
      ],
      "metadata": {
        "id": "tRySfx_bz780"
      },
      "execution_count": null,
      "outputs": []
    },
    {
      "cell_type": "markdown",
      "source": [
        "Pseudocodigo\n",
        "\n",
        "Start\n",
        "\n",
        "Declare edad as Integer\n",
        "\n",
        "Declare dias as Integer\n",
        "\n",
        "Display \"Ingresar su edad: \"\n",
        "\n",
        "Set edad = Input()\n",
        "\n",
        "Set dias = edad * 365\n",
        "\n",
        "Display \"Usted tiene\", dias, \"dias\"\n",
        "\n",
        "End"
      ],
      "metadata": {
        "id": "qNcr2BXLz9F-"
      }
    },
    {
      "cell_type": "code",
      "source": [
        "#Problema 19\n",
        "capital = float(input(\"Ingrese el capital inicial: \"))\n",
        "tasa = float(input(\"Ingrese la tasa de interés anual: \"))\n",
        "tiempo = int(input(\"Ingrese el número de años: \"))\n",
        "t = tasa / 100\n",
        "n = int(input(\"Cantidad de veces que se capitaliza por año (1, 2, 4, 12): \"))\n",
        "Monfi = (capital * (1 + t/n)**(n*tiempo))\n",
        "print(\"El monto final es:\", Monfi)"
      ],
      "metadata": {
        "id": "XoQknQgFz9u1"
      },
      "execution_count": null,
      "outputs": []
    },
    {
      "cell_type": "markdown",
      "source": [
        "Pseudocodigo\n",
        "\n",
        "Start\n",
        "\n",
        "Declare capital, tasa, t, Monfi as Float\n",
        "\n",
        "Declare tiempo, n as Integer\n",
        "\n",
        "Display \"Ingrese el capital inicial: \"\n",
        "\n",
        "Set capital = Input()\n",
        "\n",
        "Display \"Ingrese la tasa de interés anual: \"\n",
        "\n",
        "Set tasa = Input()\n",
        "\n",
        "Display \"Ingrese el número de años: \"\n",
        "\n",
        "Set tiempo = Input()\n",
        "\n",
        "Set t = tasa / 100\n",
        "\n",
        "Display \"Cantidad de veces que se capitaliza por año (1, 2, 4, 12): \"\n",
        "\n",
        "Set n = Input()\n",
        "\n",
        "Set Monfi = capital * (1 + t/n) ** (n * tiempo)\n",
        "\n",
        "Display \"El monto final es:\", Monfi\n",
        "\n",
        "End"
      ],
      "metadata": {
        "id": "r1Z_tofy2KFe"
      }
    }
  ]
}